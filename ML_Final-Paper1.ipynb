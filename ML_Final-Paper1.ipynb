{
 "cells": [
  {
   "cell_type": "markdown",
   "id": "2cb6ffbb",
   "metadata": {},
   "source": [
    "<p style=\"font-family: Arial; font-size: 2em; color: blue; font-weight: bold; text-align: center;\">\n",
    "  Study on Decision Tree and KNN Algorithm for Intrusion\n",
    "    </p>\n",
    "   <p style=\"font-family: Arial; font-size: 2em; color: blue; font-weight: bold; text-align: center;\">\n",
    "   Detection System\n",
    "    \n",
    "</p>\n"
   ]
  },
  {
   "cell_type": "markdown",
   "id": "bf254255",
   "metadata": {},
   "source": [
    "<img src=\"Intrusion-Detection-System.jpg\" alt=\"Description de l'image\"> "
   ]
  },
  {
   "cell_type": "markdown",
   "id": "0852bbb4",
   "metadata": {},
   "source": [
    "# Introduction :"
   ]
  },
  {
   "cell_type": "markdown",
   "id": "9f53996a",
   "metadata": {},
   "source": [
    "In the ever-evolving landscape of cyber threats, the significance of robust network security systems cannot be overstated. Traditional intrusion detection systems (IDS) often struggle to keep pace with the complexity and novelty of modern cyber-attacks. our project stands at the forefront of this challenge. This initiative is driven by the integration of advanced Artificial Intelligence (AI), utilizing Machine Learning (ML) techniques to analyze and predict network intrusions with unprecedented accuracy.\n",
    "\n",
    "This project aims to harness the power of the significant dataset: NSL-KDD , offering a different perspective and set of challenges. By incorporating this, the project endeavors to build an IDS that not only learns from historical patterns but also adapts to emerging threats, ensuring a future-ready defense mechanism for network security."
   ]
  },
  {
   "cell_type": "markdown",
   "id": "7ec4af6e",
   "metadata": {},
   "source": [
    "<p style=\"font-family: Arial; font-size:1.75em;color:red; font-style:bold\"><br>\n",
    "I. Business Understanding :</p><br>"
   ]
  },
  {
   "cell_type": "markdown",
   "id": "29277c9a",
   "metadata": {},
   "source": [
    "## What is an intrusion ?"
   ]
  },
  {
   "cell_type": "markdown",
   "id": "24ab16f8",
   "metadata": {},
   "source": [
    " An intrusion refers to any unauthorized access, entry, or activity in a computer system, network, or application. Intrusions are typically carried out with malicious intent, and they can take various forms,Intrusions are caused by attackers accessing the systems from the Internet, authorized users of the systems who attempt to gain additional privileges for which they are not authorized such as: \n",
    " \n",
    " - **Denial of Service (DoS) Attacks**\n",
    " - **Malware Infections**\n",
    " - **Unauthorized Access**"
   ]
  },
  {
   "cell_type": "markdown",
   "id": "97f599cd",
   "metadata": {},
   "source": [
    "## Types of intrusions :"
   ]
  },
  {
   "cell_type": "markdown",
   "id": "b5e98cdf",
   "metadata": {},
   "source": [
    "- **Denial of Service (DoS)** : To disrupt or deny access to services for legitimate users.\n",
    "Characteristics: Overloading the target system with traffic or resource requests, rendering it unavailable to users.\n",
    "- **Probe Attacks**:Gathering information about the target system or network without directly causing harm.\n",
    "Characteristics: Scanning and probing activities to identify vulnerabilities and weaknesses.\n",
    "- **U2R (User to Root)**: The attacker attempts to escalate their privileges from a regular user to a root (administrator or superuser) level.\n",
    "Characteristics: Exploiting vulnerabilities to gain unauthorized access, often seeking control over the entire system.\n",
    "- **R2L (Remote to Local)**:The attacker seeks unauthorized access to a system from a remote machine.\n",
    "Characteristics: Typically involves exploiting vulnerabilities or weaknesses in network protocols to gain access.\n"
   ]
  },
  {
   "cell_type": "markdown",
   "id": "fe161741",
   "metadata": {},
   "source": [
    "## What is intrusion detection?"
   ]
  },
  {
   "cell_type": "markdown",
   "id": "5f2521f2",
   "metadata": {},
   "source": [
    "Intrusion detection is the process of monitoring the events occurring in a computer system or network and analyzing them for signs of intrusions, defined as attempts to compromise the confidentiality, integrity, availability, or to bypass the security mechanisms of a computer or network."
   ]
  },
  {
   "cell_type": "markdown",
   "id": "0e162457",
   "metadata": {},
   "source": [
    "## What is intrusion detection system ?"
   ]
  },
  {
   "cell_type": "markdown",
   "id": "fd74e349",
   "metadata": {},
   "source": [
    "\n",
    "<img src=\"Intrusion-Detection-System-Projects.png\" alt=\"Description de l'image\">\n",
    "    "
   ]
  },
  {
   "cell_type": "markdown",
   "id": "e3f8cfd4",
   "metadata": {},
   "source": [
    "It is software that checks a network or system for malicious activities or policy violations. Each illegal activity or violation is often recorded either centrally using a SIEM system or notified to an administration"
   ]
  },
  {
   "cell_type": "markdown",
   "id": "ca53394c",
   "metadata": {},
   "source": [
    "## How does an IDS work?\n",
    "- An IDS (Intrusion Detection System) monitors the traffic on a computer network to detect any suspicious activity.\n",
    "- It analyzes the data flowing through the network to look for patterns and signs of abnormal behavior.\n",
    "- The IDS compares the network activity to a set of predefined rules and patterns to identify any activity that might indicate an attack or intrusion.\n",
    "- If the IDS detects something that matches one of these rules or patterns, it sends an alert to the system administrator.\n",
    "- The system administrator can then investigate the alert and take action to prevent any damage or further intrusion."
   ]
  },
  {
   "cell_type": "markdown",
   "id": "4d49ed20",
   "metadata": {},
   "source": [
    "<p style=\"font-family: Arial; font-size:1.75em;color:blue; font-style:bold\"><br>\n",
    "Business Objectives :</p><br>"
   ]
  },
  {
   "cell_type": "markdown",
   "id": "323a9d2c",
   "metadata": {},
   "source": [
    "The objective is to propose solutions to improve the quality of detec\n",
    "tion of anomaly-based IDS using machine learning techniques for deployment on real\n",
    "networks.\n",
    "- Improving the accuracy of detection on known datasets is not enough to achieve this goal, because the results obtained are not transferable to real networks.\n",
    "- Machine learning models learn the traffic of a dataset and not the traffic to be monitored. They need to be re-trained on the monitored network, which is hardly possible as it requires labeled datasets containing attacks on a real network.\n",
    "- Develop IDSs that can be deployed on unknown networks without labeled datasets.\n"
   ]
  },
  {
   "cell_type": "markdown",
   "id": "d904d575",
   "metadata": {},
   "source": [
    "<p style=\"font-family: Arial; font-size:1.75em;color:red; font-style:bold\"><br>\n",
    "II. Data Understanding</p><br>"
   ]
  },
  {
   "cell_type": "markdown",
   "id": "95c82822",
   "metadata": {},
   "source": [
    "<p style=\"font-family: Arial; font-size:1.75em;color:green; font-style:bold\"><br>\n",
    "    1.Dataset Overview :"
   ]
  },
  {
   "cell_type": "markdown",
   "id": "ec0c4b5c",
   "metadata": {},
   "source": [
    "In our quest to create a robust and highly efficient network security model, we have chosen to work with a distinctive dataset: NSL-KDD. This dataset offers unique insights and challenges, providing a comprehensive ground for testing and improving our intrusion detection system.\n"
   ]
  },
  {
   "cell_type": "markdown",
   "id": "edb51e48",
   "metadata": {},
   "source": [
    "## Why Not KDD'99?"
   ]
  },
  {
   "cell_type": "markdown",
   "id": "c3f99cc8",
   "metadata": {},
   "source": [
    "The dataset is plagued by a large number of duplicate records, skewing the learning process towards more frequent patterns and potentially leading to a false sense of accuracy and security. This bias towards frequent records diminishes our model’s ability to detect rare, yet potentially devastating, network intrusions."
   ]
  },
  {
   "cell_type": "markdown",
   "id": "26c15a61",
   "metadata": {},
   "source": [
    "## NSL-KDD Dataset:"
   ]
  },
  {
   "cell_type": "markdown",
   "id": "766dcb96",
   "metadata": {},
   "source": [
    "NSL-KDD is a data set suggested to solve some of the inherent problems of the KDD'99 data set. Although, this new version of the KDD data set still suffers from some of the problems and may not be a perfect representative of existing real networks, because of the lack of public data sets for network-based IDSs, we believe it still can be applied as an effective benchmark data set to help researchers compare different intrusion detection methods. Furthermore, the number of records in the NSL-KDD train and test sets are reasonable. This advantage makes it affordable to run the experiments on the complete set without the need to randomly select a small portion. Consequently, evaluation results of different research work will be consistent and comparable."
   ]
  },
  {
   "cell_type": "markdown",
   "id": "0a4930fa",
   "metadata": {},
   "source": [
    "<p style=\"font-family: Arial; font-size:1.75em;color:blue; font-style:bold\"><br>\n",
    "    Feature Identification and Categorization :"
   ]
  },
  {
   "cell_type": "markdown",
   "id": "b73ee831",
   "metadata": {},
   "source": [
    "## Connection Information :\n",
    "\n",
    "Features in this category provide basic information about each network connection. This includes details such as the duration of the connection, the type of protocol used, the network service accessed, and the status of the connection. Analyzing these features helps in understanding the general behavior of the network traffic and aids in the initial filtering of benign connections."
   ]
  },
  {
   "cell_type": "markdown",
   "id": "854d7c04",
   "metadata": {},
   "source": [
    "<img src=\"features2.png\" alt=\"Description de l'image\"> "
   ]
  },
  {
   "cell_type": "markdown",
   "id": "ffbb1cec",
   "metadata": {},
   "source": [
    "The dataset contains a huge number\n",
    "of redundant and duplicated records, and other mistakes that affect the performance\n",
    "of classifiers. They become biased towards more frequent records, whose numbers have\n",
    "been inflated."
   ]
  },
  {
   "cell_type": "markdown",
   "id": "8f007b1f",
   "metadata": {},
   "source": [
    "## Connection Content :"
   ]
  },
  {
   "cell_type": "markdown",
   "id": "e82287ba",
   "metadata": {},
   "source": [
    "These features delve deeper into the content and characteristics of the network connections. They provide insights into the payload and the nature of the connection, highlighting aspects like urgent data packets, failed login attempts, and file creation operations. Analyzing these features is crucial for identifying malicious activities that exploit vulnerabilities in the network services."
   ]
  },
  {
   "cell_type": "markdown",
   "id": "380b04e4",
   "metadata": {},
   "source": [
    "<img src=\"features1.png\" alt=\"Description de l'image\"> "
   ]
  },
  {
   "cell_type": "markdown",
   "id": "74dfd630",
   "metadata": {},
   "source": [
    "## Traffic Information :"
   ]
  },
  {
   "cell_type": "markdown",
   "id": "91fb1fcd",
   "metadata": {},
   "source": [
    "Traffic information features help in understanding the patterns and trends in the network traffic. They provide statistics related to the rate of certain types of errors, the number of connections to the same host or service, and the distribution of service access across different hosts. These features are vital for detecting distributed attacks and network scans."
   ]
  },
  {
   "cell_type": "markdown",
   "id": "265ab527",
   "metadata": {},
   "source": [
    "<img src=\"features3.png\" alt=\"Description de l'image\"> "
   ]
  },
  {
   "cell_type": "markdown",
   "id": "f6db8ca8",
   "metadata": {},
   "source": [
    "<p style=\"font-family: Arial; font-size:1.75em;color:blue; font-style:bold\"><br>\n",
    "    Output Label :"
   ]
  },
  {
   "cell_type": "markdown",
   "id": "efda679f",
   "metadata": {},
   "source": [
    "\n",
    "Finally, the 'label' feature plays a critical role as it provides the ground truth for supervised learning models. It indicates whether a particular connection is normal or an anomaly, guiding the model during the training phase to learn the patterns associated with benign and malicious network activities.\n",
    "\n",
    "In case of binary prediction the output/outcome/label is categorized into 2 types:\n",
    "\n",
    "- Normal Traffic\n",
    "- Attack\n",
    "\n",
    "In the case of multiclass prediction the output/outcome/label is categorized into four main attack types besides normal traffic:\n",
    "\n",
    "- DoS (Denial of Service): Attacks that shut down a network, making it inaccessible to its intended users.\n",
    "- R2L (Root to Local): Unauthorized access from a remote machine.\n",
    "- Probe: Surveillance and other probing, such as port scanning.\n",
    "- U2R (User to Root): Unauthorized access to local superuser privileges."
   ]
  },
  {
   "cell_type": "markdown",
   "id": "c4eeb98b",
   "metadata": {},
   "source": [
    "\n",
    "<p style=\"font-family: Arial; font-size:1.75em;color:green; font-style:bold\"><br>\n",
    "  2.Importing required libraries:</p><br>\n"
   ]
  },
  {
   "cell_type": "code",
   "execution_count": null,
   "id": "f3070b66",
   "metadata": {},
   "outputs": [],
   "source": [
    "import numpy as np\n",
    "import pandas as pd\n",
    "import matplotlib.pyplot as plt\n",
    "import io\n",
    "import re\n",
    "import seaborn as sns\n",
    "from scipy.io import arff\n",
    "from sklearn.preprocessing import OrdinalEncoder\n",
    "from sklearn.preprocessing import OneHotEncoder\n",
    "from sklearn.preprocessing import StandardScaler\n",
    "from sklearn import metrics\n",
    "import seaborn as sns\n",
    "\n",
    "pd.pandas.set_option('display.max_columns',None)"
   ]
  },
  {
   "cell_type": "code",
   "execution_count": null,
   "id": "8226ab24",
   "metadata": {},
   "outputs": [],
   "source": [
    "column_names = [\n",
    "    'duration', 'protocol_type', 'service', 'flag', 'src_bytes', 'dst_bytes',\n",
    "    'land', 'wrong_fragment', 'urgent', 'hot', 'num_failed_logins',\n",
    "    'logged_in', 'num_compromised', 'root_shell', 'su_attempted',\n",
    "    'num_root', 'num_file_creations', 'num_shells', 'num_access_files',\n",
    "    'num_outbound_cmds', 'is_host_login', 'is_guest_login', 'count',\n",
    "    'srv_count', 'serror_rate', 'srv_serror_rate', 'rerror_rate',\n",
    "    'srv_rerror_rate', 'same_srv_rate', 'diff_srv_rate',\n",
    "    'srv_diff_host_rate', 'dst_host_count', 'dst_host_srv_count',\n",
    "    'dst_host_same_srv_rate', 'dst_host_diff_srv_rate',\n",
    "    'dst_host_same_src_port_rate', 'dst_host_srv_diff_host_rate',\n",
    "    'dst_host_serror_rate', 'dst_host_srv_serror_rate',\n",
    "    'dst_host_rerror_rate', 'dst_host_srv_rerror_rate', 'xAttack','difficulty_level'\n",
    "]"
   ]
  },
  {
   "cell_type": "markdown",
   "id": "ea38d1d9",
   "metadata": {},
   "source": [
    "\n",
    "<p style=\"font-family: Arial; font-size:1.75em;color:green; font-style:bold\"><br>\n",
    " 3.Loading a Dataframe:</p><br>\n"
   ]
  },
  {
   "cell_type": "code",
   "execution_count": null,
   "id": "ec12f063",
   "metadata": {},
   "outputs": [],
   "source": [
    "data_test = pd.read_csv('KDDTest+.txt', header=None)\n",
    "data_train = pd.read_csv('KDDTrain+.txt', header=None)\n",
    "\n",
    "data_test.columns = column_names\n",
    "data_train.columns = column_names"
   ]
  },
  {
   "cell_type": "markdown",
   "id": "ec903c98",
   "metadata": {},
   "source": [
    "<p style=\"font-family: Arial; font-size:1.5em;color:green; font-style:bold\"><br>\n",
    "4.Get information about a dataset</p><br>"
   ]
  },
  {
   "cell_type": "markdown",
   "id": "d198269e",
   "metadata": {},
   "source": [
    " \n",
    " ## Data Train:"
   ]
  },
  {
   "cell_type": "code",
   "execution_count": null,
   "id": "ce3bf244",
   "metadata": {
    "scrolled": true
   },
   "outputs": [],
   "source": [
    "data_train"
   ]
  },
  {
   "cell_type": "code",
   "execution_count": null,
   "id": "473340ca",
   "metadata": {
    "scrolled": true
   },
   "outputs": [],
   "source": [
    "data_train.head()"
   ]
  },
  {
   "cell_type": "code",
   "execution_count": null,
   "id": "4a7744df",
   "metadata": {
    "scrolled": true
   },
   "outputs": [],
   "source": [
    "data_train.tail()"
   ]
  },
  {
   "cell_type": "code",
   "execution_count": null,
   "id": "e6134b2b",
   "metadata": {},
   "outputs": [],
   "source": [
    "print(f'\\033[94mNumber of records (rows) in the train_data are: {data_train.shape[0]}')\n",
    "print(f'\\033[94mNumber of features (columns) in train_data are: {data_train.shape[1]}')\n",
    "print(f'\\033[94mNumber of duplicate entries in train_data are: {data_train.duplicated().sum()}')\n",
    "print(f'\\033[94mNumber missing values in the train_data are: {sum(data_train.isna().sum())}')"
   ]
  },
  {
   "cell_type": "code",
   "execution_count": null,
   "id": "3b7439b4",
   "metadata": {},
   "outputs": [],
   "source": [
    "sizes_train = dict(data_train['xAttack'].value_counts())\n",
    "\n",
    "fig, (ax1) = plt.subplots(1,figsize=(15, 15))\n",
    "ax1.set_title(\"Distribution of xAttack in data_train\")\n",
    "ax1.pie(sizes_train.values(), labels=sizes_train.keys(), autopct=\"%.1f%%\", pctdistance=0.85, shadow=True)\n",
    "ax1.legend(title=\"xAttack\", labels=sizes_train.keys(), bbox_to_anchor=(1, 1))\n",
    "my_circle1 = plt.Circle((0, 0), 0.7, color='white')\n",
    "ax1.add_artist(my_circle1)\n",
    "plt.show()"
   ]
  },
  {
   "cell_type": "markdown",
   "id": "9d5ef88d",
   "metadata": {},
   "source": [
    "\n",
    "<div style=\"background-color: yellow; padding: 10px; border: 1px solid #f1c40f;\">\n",
    "    <strong>Attention:</strong> <br>\n",
    "    This dataset is not balanced\n",
    "\n",
    "</div>\n"
   ]
  },
  {
   "cell_type": "code",
   "execution_count": null,
   "id": "a1b5ba31",
   "metadata": {},
   "outputs": [],
   "source": [
    "data_train.describe()"
   ]
  },
  {
   "cell_type": "code",
   "execution_count": null,
   "id": "ed4b9743",
   "metadata": {},
   "outputs": [],
   "source": [
    "data_train.info()"
   ]
  },
  {
   "cell_type": "markdown",
   "id": "48fbd35d",
   "metadata": {},
   "source": [
    "## data test:"
   ]
  },
  {
   "cell_type": "code",
   "execution_count": null,
   "id": "0f5763b9",
   "metadata": {},
   "outputs": [],
   "source": [
    "data_test"
   ]
  },
  {
   "cell_type": "code",
   "execution_count": null,
   "id": "7017e323",
   "metadata": {},
   "outputs": [],
   "source": [
    "data_test.head()"
   ]
  },
  {
   "cell_type": "code",
   "execution_count": null,
   "id": "f0e8b32b",
   "metadata": {},
   "outputs": [],
   "source": [
    "data_test.tail()"
   ]
  },
  {
   "cell_type": "code",
   "execution_count": null,
   "id": "3dff0b14",
   "metadata": {},
   "outputs": [],
   "source": [
    "print(f'\\033[94mNumber of records (rows) in the test_data are: {data_test.shape[0]}')\n",
    "print(f'\\033[94mNumber of features (columns) in test_data are: {data_test.shape[1]}')\n",
    "print(f'\\033[94mNumber of duplicate entries in test_data are: {data_test.duplicated().sum()}')\n",
    "print(f'\\033[94mNumber missing values in the test_data are: {sum(data_test.isna().sum())}')"
   ]
  },
  {
   "cell_type": "code",
   "execution_count": null,
   "id": "8306ea32",
   "metadata": {
    "scrolled": true
   },
   "outputs": [],
   "source": [
    "sizes_test = dict(data_test['xAttack'].value_counts())\n",
    "fig, (ax2) = plt.subplots(1, figsize=(15, 15))\n",
    "ax2.set_title(\"Distribution of xAttack in data_test\")\n",
    "ax2.pie(sizes_test.values(), labels=sizes_test.keys(), autopct=\"%.1f%%\", pctdistance=0.85, shadow=True)\n",
    "ax2.legend(title=\"xAttack\", labels=sizes_test.keys(), bbox_to_anchor=(1, 1))\n",
    "my_circle2 = plt.Circle((0, 0), 0.7, color='white')\n",
    "ax2.add_artist(my_circle2)\n",
    "\n",
    "plt.show()"
   ]
  },
  {
   "cell_type": "markdown",
   "id": "edc2d9f1",
   "metadata": {},
   "source": [
    "\n",
    "<div style=\"background-color: yellow; padding: 10px; border: 1px solid #f1c40f;\">\n",
    "    <strong>Attention:</strong> <br>\n",
    "    This dataset is not balanced \n",
    "\n",
    "</div>\n"
   ]
  },
  {
   "cell_type": "code",
   "execution_count": null,
   "id": "42004ba5",
   "metadata": {},
   "outputs": [],
   "source": [
    "data_test.describe()"
   ]
  },
  {
   "cell_type": "code",
   "execution_count": null,
   "id": "b7bb57c2",
   "metadata": {},
   "outputs": [],
   "source": [
    "data_test.info()"
   ]
  },
  {
   "cell_type": "markdown",
   "id": "4582d01c",
   "metadata": {},
   "source": [
    "we can notice that we have features of type object what is harder to manipulate so we have to convert them into category type \n"
   ]
  },
  {
   "cell_type": "code",
   "execution_count": null,
   "id": "b8a7e0cb",
   "metadata": {},
   "outputs": [],
   "source": [
    "def afficher_shapes(ensemble_train, ensemble_test):\n",
    "    print(\"Shape of data_train :\", ensemble_train.shape)\n",
    "    print(\"Shape of data_test :\", ensemble_test.shape)\n",
    "afficher_shapes(data_train, data_test)"
   ]
  },
  {
   "cell_type": "markdown",
   "id": "8b60e879",
   "metadata": {},
   "source": [
    "### Visualization of the Data :"
   ]
  },
  {
   "cell_type": "markdown",
   "id": "23949e8e",
   "metadata": {},
   "source": [
    "<p style=\"font-family: Arial; font-size:1.75em;color:green; font-style:bold\"><br>\n",
    " 5. Exploratory data analysis :\n",
    "</p><br>\n"
   ]
  },
  {
   "cell_type": "markdown",
   "id": "cd1371ae",
   "metadata": {},
   "source": [
    "### A) Relationships :"
   ]
  },
  {
   "cell_type": "markdown",
   "id": "4addc7dc",
   "metadata": {},
   "source": [
    "### Correlation Matrix HeatMap"
   ]
  },
  {
   "cell_type": "code",
   "execution_count": null,
   "id": "008a657c",
   "metadata": {},
   "outputs": [],
   "source": [
    "def correlation_matrix_heatMap (data_set):\n",
    "    correlation_matrix = data_set.corr()\n",
    "\n",
    "    plt.figure(figsize=(30, 30))\n",
    "    sns.heatmap(correlation_matrix, annot=True, cmap='coolwarm', fmt=\".2f\")\n",
    "    plt.title('Correlation Matrix Heatmap')\n",
    "    plt.show()"
   ]
  },
  {
   "cell_type": "code",
   "execution_count": null,
   "id": "7653a847",
   "metadata": {
    "scrolled": false
   },
   "outputs": [],
   "source": [
    "data =  pd.concatd[ata_train,data_test] # regrouping the data set together\n",
    "correlation_matrix_heatMap(data)"
   ]
  },
  {
   "cell_type": "code",
   "execution_count": null,
   "id": "dd1736e6",
   "metadata": {},
   "outputs": [],
   "source": [
    "data"
   ]
  },
  {
   "cell_type": "markdown",
   "id": "1771b502",
   "metadata": {},
   "source": [
    "\n",
    "<div style=\"background-color: yellow; padding: 10px; border: 1px solid #f1c40f;\">\n",
    "    <strong>Attention:</strong> <br>\n",
    "as we can see , num_cmd_bound has no correlation with any feature so we have to drop it in the data preparation \n",
    "\n",
    "</div>\n"
   ]
  },
  {
   "cell_type": "code",
   "execution_count": null,
   "id": "b06b9406",
   "metadata": {},
   "outputs": [],
   "source": [
    "def find_highly_correlated_features(data):\n",
    "    threshold=0.75 # d'aprés madame stat :)\n",
    "    correlation_matrix = data.corr()\n",
    "    correlated_features = np.where(np.abs(correlation_matrix) > threshold)\n",
    "    correlated_features = [(correlation_matrix.index[x], correlation_matrix.columns[y]) for x, y in zip(*correlated_features)\n",
    "                           if x != y and x < y]\n",
    "    \n",
    "    correlated_features_dict = {}\n",
    "    for f1, f2 in correlated_features:\n",
    "        if f1 not in correlated_features_dict:\n",
    "            correlated_features_dict[f1] = [f2]\n",
    "        else:\n",
    "            correlated_features_dict[f1].append(f2)\n",
    "\n",
    "    return correlated_features_dict"
   ]
  },
  {
   "cell_type": "code",
   "execution_count": null,
   "id": "17911379",
   "metadata": {},
   "outputs": [],
   "source": [
    "highly_correlated = find_highly_correlated_features(data)\n",
    "\n",
    "for feature, correlated in highly_correlated.items():\n",
    "    print(f\"Feature '{feature}' is highly correlated with: [ {' , '.join(correlated)} ]\")"
   ]
  },
  {
   "cell_type": "markdown",
   "id": "dcc7f351",
   "metadata": {},
   "source": [
    "\n",
    "<div style=\"background-color: yellow; padding: 10px; border: 1px solid #f1c40f;\">\n",
    "    <strong>Attention:</strong> <br>\n",
    "    we have to drop features in the data preparation which are highly correlated to eliminate redundancy  \n",
    "\n",
    "</div>\n"
   ]
  },
  {
   "cell_type": "code",
   "execution_count": null,
   "id": "45ba9cf7",
   "metadata": {},
   "outputs": [],
   "source": [
    "import numpy as np\n",
    "import pandas as pd\n",
    "import seaborn as sns\n",
    "import matplotlib.pyplot as plt\n",
    "\n",
    "def find_highly_correlated_features(data, threshold=0.75):\n",
    "    corr_matrix = data.corr().abs()\n",
    "    upper = corr_matrix.where(np.triu(np.ones(corr_matrix.shape), k=1).astype(bool))\n",
    "    correlated_features = [column for column in upper.columns if any(upper[column] > threshold)]\n",
    "    correlated_data = data[correlated_features]\n",
    "    for feature in correlated_features:\n",
    "        correlated_with = list(upper.index[upper[feature] > threshold])\n",
    "        for correlated in correlated_with:\n",
    "            print(f\"{feature} and {correlated} are highly correlated (Correlation: {corr_matrix.loc[feature, correlated]:.2f})\")\n",
    "    sns.pairplot(correlated_data, diag_kind='kde')\n",
    "    plt.gcf().set_size_inches(30, 30)\n",
    "    plt.show()\n",
    "\n",
    "print(\"features that are correlated in data_test are\")\n",
    "find_highly_correlated_features(data_test)\n",
    "print(\"features that are correlated in data_train are\")\n",
    "find_highly_correlated_features(data_train)"
   ]
  },
  {
   "cell_type": "markdown",
   "id": "97fe3a3e",
   "metadata": {},
   "source": [
    "bubbles plot"
   ]
  },
  {
   "cell_type": "code",
   "execution_count": null,
   "id": "3f0e64b7",
   "metadata": {},
   "outputs": [],
   "source": [
    "import matplotlib.pyplot as plt\n",
    "import seaborn as sns\n",
    "\n",
    "# Assuming train_data is your DataFrame containing the dataset\n",
    "\n",
    "# Select a subset of columns for bubble plot\n",
    "selected_columns = [\n",
    "    'duration', 'src_bytes', 'dst_bytes',\n",
    "    'count', 'srv_count', 'serror_rate', 'rerror_rate',\n",
    "    'same_srv_rate', 'diff_srv_rate', 'dst_host_count', 'dst_host_srv_count',\n",
    "    'dst_host_same_srv_rate', 'dst_host_diff_srv_rate',\n",
    "    'dst_host_same_src_port_rate', 'dst_host_srv_diff_host_rate',\n",
    "    'dst_host_serror_rate', 'dst_host_srv_serror_rate',\n",
    "    'dst_host_rerror_rate', 'dst_host_srv_rerror_rate', 'xAttack', 'difficulty_level'\n",
    "]\n",
    "\n",
    "# Define the size variable for the bubble plot\n",
    "size_column = 'duration'  # You can change this to any other numeric column\n",
    "\n",
    "# Set a color palette for better visibility\n",
    "colors = sns.color_palette(\"husl\", n_colors=len(data_train['xAttack'].unique()))\n",
    "\n",
    "# Create a bubble plot using seaborn\n",
    "plt.figure(figsize=(10, 6\n",
    "                   ))\n",
    "scatter = sns.scatterplot(\n",
    "    x='src_bytes',\n",
    "    y='dst_bytes',\n",
    "    size=size_column,\n",
    "    hue='xAttack',\n",
    "    palette=colors,\n",
    "    data=data_train[selected_columns],\n",
    "    sizes=(20, 200),  # Adjust the size range as needed\n",
    "    alpha=0.7  # Adjust transparency if necessary\n",
    ")\n",
    "\n",
    "# Add a legend with appropriate labels\n",
    "legend_labels = [f'Attack Type {i}' for i in data_train['xAttack'].unique()]\n",
    "scatter.legend(title='Attack Type', labels=legend_labels)\n",
    "\n",
    "# Adjust plot aesthetics\n",
    "plt.title('Bubble Plot - Network Traffic and Attacks')\n",
    "plt.xlabel('Source Bytes')\n",
    "plt.ylabel('Destination Bytes')\n",
    "plt.grid(True, linestyle='--', alpha=0.5)\n",
    "plt.show()"
   ]
  },
  {
   "cell_type": "markdown",
   "id": "918d099c",
   "metadata": {},
   "source": [
    "### B) Distributions :"
   ]
  },
  {
   "cell_type": "markdown",
   "id": "a6ab138b",
   "metadata": {},
   "source": [
    "histograms"
   ]
  },
  {
   "cell_type": "code",
   "execution_count": null,
   "id": "2a03ae0d",
   "metadata": {},
   "outputs": [],
   "source": [
    "import pandas as pd\n",
    "import matplotlib.pyplot as plt\n",
    "\n",
    "def visualize_histograms(data_train):\n",
    "    num_features = len(data_train.columns)\n",
    "    num_cols = 3  # Number of columns in each row\n",
    "    num_rows = (num_features + num_cols - 1) // num_cols\n",
    "    fig, axes = plt.subplots(num_rows, num_cols, figsize=(15, 5 * num_rows))\n",
    "    axes = axes.flatten() if num_rows > 1 else [axes]\n",
    "    for i, (feature, ax) in enumerate(zip(data.columns, axes)):\n",
    "        ax.hist(data[feature], bins=20, color='skyblue', edgecolor='black')\n",
    "        ax.set_title(f'Histogram of {feature}')\n",
    "        ax.set_xlabel(feature)\n",
    "        ax.set_ylabel('Frequency')\n",
    "    plt.tight_layout()\n",
    "    plt.show()\n",
    "visualize_histograms(data)"
   ]
  },
  {
   "cell_type": "markdown",
   "id": "4ef0ee4f",
   "metadata": {},
   "source": [
    "## Unique values :"
   ]
  },
  {
   "cell_type": "code",
   "execution_count": null,
   "id": "7e8a77cd",
   "metadata": {
    "scrolled": true
   },
   "outputs": [],
   "source": [
    "unique_values = data_train['xAttack'].unique()\n",
    "print('Unique values:', unique_values)"
   ]
  },
  {
   "cell_type": "markdown",
   "id": "84893736",
   "metadata": {},
   "source": [
    "## Mapping :"
   ]
  },
  {
   "cell_type": "code",
   "execution_count": null,
   "id": "2d5d9813",
   "metadata": {},
   "outputs": [],
   "source": [
    "attack_mapping = {\n",
    "        'DoS': ['Neptune', 'back', 'land', 'pod', 'smurf', 'teardrop', 'mailbomb', 'apache2', 'processtable', 'udpstorm', 'worm'],\n",
    "        'U2R': ['buffer_overflow', 'loadmodule', 'perl', 'rootkit', 'ps', 'sqlattack', 'xterm'],\n",
    "        'R2L': ['ftp_write', 'guess_passwd', 'imap', 'multihop', 'phf', 'spy', 'warezclient', 'warezmaster', 'sendmail', 'named', 'snmpgetattack', 'snmpguess', 'xlock', 'xsnoop', 'httptunnel'],\n",
    "        'Probe': ['ipsweep', 'nmap', 'portsweep', 'satan', 'mscan', 'saint'],\n",
    "        'normal' : ['normal']\n",
    "}\n",
    "\n",
    "def map_attack_type(x):\n",
    "    for k, v in attack_mapping.items():\n",
    "        if x.lower() in [attack.lower() for attack in v]:\n",
    "            return k\n",
    "    return 'unknown'\n",
    "\n",
    "data_test['xAttack'] = data_test['xAttack'].apply(map_attack_type)\n",
    "data_train['xAttack'] = data_train['xAttack'].apply(map_attack_type)\n"
   ]
  },
  {
   "cell_type": "code",
   "execution_count": null,
   "id": "9baaba6e",
   "metadata": {},
   "outputs": [],
   "source": [
    "def Attack_histogram(data_frame):\n",
    "    attack_counts = data_frame['xAttack'].value_counts()\n",
    "    normal_count = attack_counts.get('normal', 0)\n",
    "    attack_counts_without_normal = attack_counts[attack_counts.index != 'normal']\n",
    "    #attack_counts_without_normal += normal_count\n",
    "    axe = attack_counts_without_normal.plot(kind='bar')\n",
    "    plt.title('Number of Instances for Each Type of Attack')\n",
    "    plt.xlabel('Attack Type')\n",
    "    plt.ylabel('Number of Instances')\n",
    "    plt.grid()\n",
    "    for p in axe.patches:\n",
    "        axe.annotate(str(p.get_height()), (p.get_x() + p.get_width() / 2., p.get_height()),\n",
    "                    ha='center', va='center')\n",
    "    plt.show()"
   ]
  },
  {
   "cell_type": "code",
   "execution_count": null,
   "id": "2a90e45d",
   "metadata": {},
   "outputs": [],
   "source": [
    "Attack_histogram(data_train)"
   ]
  },
  {
   "cell_type": "code",
   "execution_count": null,
   "id": "1baa2b5e",
   "metadata": {},
   "outputs": [],
   "source": [
    "Attack_histogram(data_test)"
   ]
  },
  {
   "cell_type": "markdown",
   "id": "70e3fe1b",
   "metadata": {},
   "source": [
    "<p style=\"font-family: Arial; font-size:1.75em;color:red; font-style:bold\"><br>\n",
    "III. Data Preparation:</p><br>"
   ]
  },
  {
   "cell_type": "markdown",
   "id": "b22e2742",
   "metadata": {},
   "source": [
    "<font color='blue' ><h3> \n",
    "III.1. Data PRE-PROCESSING: </p><h3>"
   ]
  },
  {
   "cell_type": "markdown",
   "id": "4f5b0810",
   "metadata": {},
   "source": [
    "## 1) Checking for NAN values :"
   ]
  },
  {
   "cell_type": "code",
   "execution_count": null,
   "id": "7e4226c2",
   "metadata": {},
   "outputs": [],
   "source": [
    "print(data_train.isnull().values.any())\n",
    "print(data_test.isnull().values.any())"
   ]
  },
  {
   "cell_type": "markdown",
   "id": "2765b576",
   "metadata": {},
   "source": [
    "## 2) Checking for Duplicates values :"
   ]
  },
  {
   "cell_type": "code",
   "execution_count": null,
   "id": "fa6560ed",
   "metadata": {},
   "outputs": [],
   "source": [
    "#Checking for duplicates in the Xtrain \n",
    "duplicate_data_train = data_train[data_train.duplicated(keep = 'last')]\n",
    "duplicate_data_train"
   ]
  },
  {
   "cell_type": "code",
   "execution_count": null,
   "id": "6e159904",
   "metadata": {},
   "outputs": [],
   "source": [
    "#Checking for duplicates in the Xtest\n",
    "duplicate_data_test = data_test[data_test.duplicated(keep = 'last')]\n",
    "duplicate_data_test"
   ]
  },
  {
   "cell_type": "code",
   "execution_count": null,
   "id": "eebd932b",
   "metadata": {},
   "outputs": [],
   "source": [
    "data_train = data_train.drop_duplicates()\n",
    "data_test = data_test.drop_duplicates()"
   ]
  },
  {
   "cell_type": "markdown",
   "id": "4be0b81c",
   "metadata": {},
   "source": [
    "Dropping the duplicates in both data_train and data_test"
   ]
  },
  {
   "cell_type": "markdown",
   "id": "7fade5de",
   "metadata": {},
   "source": [
    "## Droping coorelated features:"
   ]
  },
  {
   "cell_type": "markdown",
   "id": "d2db6eeb",
   "metadata": {},
   "source": [
    "\n",
    "<div style=\"background-color: yellow; padding: 10px; border: 1px solid #f1c40f;\">\n",
    "    <strong>Attention:</strong> <br>\n",
    "as we said before in the data visualizing , we're going to drop correlated features\n",
    "</div>\n"
   ]
  },
  {
   "cell_type": "code",
   "execution_count": null,
   "id": "8d4b98c8",
   "metadata": {},
   "outputs": [],
   "source": [
    "data = data.drop(columns=['srv_serror_rate', 'dst_host_serror_rate', 'dst_host_srv_serror_rate','num_compromised','srv_rerror_rate', 'dst_host_rerror_rate','dst_host_srv_rerror_rate','dst_host_same_srv_rate'],axis=1)"
   ]
  },
  {
   "cell_type": "code",
   "execution_count": null,
   "id": "24ce2b5d",
   "metadata": {},
   "outputs": [],
   "source": [
    "data_test = data_test.drop(columns=['srv_serror_rate', 'dst_host_serror_rate', 'dst_host_srv_serror_rate','num_compromised','srv_rerror_rate', 'dst_host_rerror_rate','dst_host_srv_rerror_rate','dst_host_same_srv_rate'],axis=1)\n",
    "data_train = data_train.drop(columns=['srv_serror_rate', 'dst_host_serror_rate', 'dst_host_srv_serror_rate','num_compromised','srv_rerror_rate', 'dst_host_rerror_rate','dst_host_srv_rerror_rate','dst_host_same_srv_rate'],axis=1)"
   ]
  },
  {
   "cell_type": "markdown",
   "id": "4fafda53",
   "metadata": {},
   "source": [
    "## 3) Cheking for outliers :"
   ]
  },
  {
   "cell_type": "code",
   "execution_count": null,
   "id": "cb4c7f46",
   "metadata": {},
   "outputs": [],
   "source": [
    "def detect_outliers_iqr(data_train, data_test, threshold=1.5, visualize=True):\n",
    "    outliers_train = pd.DataFrame()\n",
    "    outliers_test = pd.DataFrame()\n",
    "\n",
    "    datasets = {'data_train': data_train, 'data_test': data_test}\n",
    "\n",
    "    for dataset_name, dataset in datasets.items():\n",
    "        for column in dataset.columns:\n",
    "            if dataset[column].dtype in [int, float]:\n",
    "                q1 = dataset[column].quantile(0.25)\n",
    "                q3 = dataset[column].quantile(0.75)\n",
    "                iqr = q3 - q1\n",
    "\n",
    "                lower_bound = q1 - threshold * iqr\n",
    "                upper_bound = q3 + threshold * iqr\n",
    "\n",
    "                column_outliers = dataset[(dataset[column] < lower_bound) | (dataset[column] > upper_bound)]\n",
    "                if dataset_name == 'data_train':\n",
    "                    outliers_train = pd.concat([outliers_train, column_outliers])\n",
    "                elif dataset_name == 'data_test':\n",
    "                    outliers_test = pd.concat([outliers_test, column_outliers])\n",
    "\n",
    "                # Calculate percentage of outliers\n",
    "                total_samples = len(dataset)\n",
    "                total_outliers = len(column_outliers)\n",
    "                percentage_outliers = (total_outliers / total_samples) * 100\n",
    "\n",
    "                print(f\"Percentage of outliers in {dataset_name} - {column}: {percentage_outliers:.2f}%\")\n",
    "\n",
    "        if visualize and not column_outliers.empty:\n",
    "            for column in dataset.columns:\n",
    "                if dataset[column].dtype in [int, float]:\n",
    "                    plt.figure(figsize=(10, 6))\n",
    "                    plt.scatter(dataset.index, dataset[column], label=column)\n",
    "                    if dataset_name == 'data_train':\n",
    "                        plt.scatter(outliers_train.index, outliers_train[column], color='red', label='Outliers')\n",
    "                    elif dataset_name == 'data_test':\n",
    "                        plt.scatter(outliers_test.index, outliers_test[column], color='red', label='Outliers')\n",
    "                    plt.title(f'Outliers Detection for {dataset_name} - {column}')\n",
    "                    plt.xlabel('Index')\n",
    "                    plt.ylabel(column)\n",
    "                    plt.legend()\n",
    "                    plt.show()\n",
    "\n",
    "    return outliers_train, outliers_test\n",
    "\n",
    "data_train_outliers, data_test_outliers = detect_outliers_iqr(data_train, data_test)\n",
    "print(\"Outliers in data_train:\")\n",
    "print(data_train_outliers)\n",
    "print(\"Outliers in data_test:\")\n",
    "print(data_test_outliers)"
   ]
  },
  {
   "cell_type": "code",
   "execution_count": null,
   "id": "fccaa98b",
   "metadata": {},
   "outputs": [],
   "source": [
    "from sklearn.preprocessing import RobustScaler\n",
    "columns_with_outliers = ['rerror_rate', 'diff_srv_rate',\n",
    "                          'srv_diff_host_rate', 'dst_host_diff_srv_rate',\n",
    "                          'dst_host_same_src_port_rate',\n",
    "                          'dst_host_srv_diff_host_rate']\n",
    "\n",
    "outlier_threshold = 3\n",
    "\n",
    "# Replace outliers with the median\n",
    "for column in columns_with_outliers:\n",
    "    mask_outliers = np.abs(data_train[column]) > outlier_threshold\n",
    "    data_train.loc[mask_outliers, column] = np.nan\n",
    "    data_train[column] = data_train[column].fillna(data_train[column].median())\n",
    "\n",
    "# Check if outliers have been successfully replaced\n",
    "print(\"Percentage of outliers in data_train after imputation:\")\n",
    "for column in columns_with_outliers:\n",
    "    percentage_outliers = (data_train[column].isnull().sum() / len(data_train)) * 100\n",
    "    print(f\"Percentage of outliers in data_train - {column}: {percentage_outliers:.2f}%\")"
   ]
  },
  {
   "cell_type": "markdown",
   "id": "41445f44",
   "metadata": {},
   "source": [
    "## 4) Encoding "
   ]
  },
  {
   "cell_type": "code",
   "execution_count": null,
   "id": "9ef170f0",
   "metadata": {},
   "outputs": [],
   "source": [
    "object_columns=['protocol_type', 'service', 'flag']\n",
    "data_train[object_columns] = data_train[object_columns].astype('category')\n",
    "data_test[object_columns] = data_test[object_columns].astype('category')"
   ]
  },
  {
   "cell_type": "code",
   "execution_count": null,
   "id": "4f71ea20",
   "metadata": {},
   "outputs": [],
   "source": [
    "unique_values = data_train['service'].unique()\n",
    "unique_values"
   ]
  },
  {
   "cell_type": "code",
   "execution_count": null,
   "id": "054e4e86",
   "metadata": {},
   "outputs": [],
   "source": [
    "from sklearn.preprocessing import OrdinalEncoder\n",
    "\n",
    "encoder = OrdinalEncoder()\n",
    "\n",
    "data_train['protocol_type'] = encoder.fit_transform(data_train['protocol_type'].values.reshape(-1, 1) )\n",
    "data_test['protocol_type'] = encoder.fit_transform(data_test['protocol_type'].values.reshape(-1, 1) )\n",
    "data_train['service'] = encoder.fit_transform(data_train['service'].values.reshape(-1, 1) )\n",
    "data_test['service'] = encoder.fit_transform(data_test['service'].values.reshape(-1, 1) )  \n",
    "\n",
    "data_train['flag'] = encoder.fit_transform(data_train['flag'].values.reshape(-1, 1) )\n",
    "data_test['flag'] = encoder.fit_transform(data_test['flag'].values.reshape(-1, 1) )"
   ]
  },
  {
   "cell_type": "markdown",
   "id": "1aee3901",
   "metadata": {},
   "source": [
    "### One hot encoding:"
   ]
  },
  {
   "cell_type": "code",
   "execution_count": null,
   "id": "d9508b9f",
   "metadata": {},
   "outputs": [],
   "source": [
    "onehot = OneHotEncoder(dtype=int, sparse=True)\n",
    "\n",
    "data_train_HotEncoded = pd.DataFrame(                \n",
    "    onehot.fit_transform(data_train['xAttack'].values.reshape(-1, 1)).toarray(),\n",
    "    columns=['DoS','Probe','R2L','U2R','normal']\n",
    ")\n",
    "\n",
    "data_test_HotEncoded = pd.DataFrame(                \n",
    "    onehot.fit_transform(data_test['xAttack'].values.reshape(-1, 1)).toarray(),\n",
    "    columns=['DoS','Probe','R2L','U2R','normal']\n",
    ")"
   ]
  },
  {
   "cell_type": "code",
   "execution_count": null,
   "id": "4a2e7251",
   "metadata": {},
   "outputs": [],
   "source": [
    "#To mach the Indexes of the encoded and the non ecoded \n",
    "data_train_HotEncoded.reset_index(drop=True, inplace=True)\n",
    "data_test_HotEncoded.reset_index(drop=True, inplace=True)\n",
    "data_train.reset_index(drop=True, inplace=True)\n",
    "data_test.reset_index(drop=True, inplace=True)\n",
    "\n",
    "data_train = pd.concat([data_train, data_train_HotEncoded], axis=1)\n",
    "data_test = pd.concat([data_test, data_test_HotEncoded], axis=1)"
   ]
  },
  {
   "cell_type": "markdown",
   "id": "865d80b7",
   "metadata": {},
   "source": [
    "###  5) Creating SubClasses From data_train and data_test For weather there is an attack ot not and for each Attack Type"
   ]
  },
  {
   "cell_type": "code",
   "execution_count": null,
   "id": "74b0484d",
   "metadata": {},
   "outputs": [],
   "source": [
    "data_train_normal = data_train.iloc[:, :-7]\n",
    "data_train_normal['normal'] = data_train['normal'] # 1 if thereis no Attack\n",
    "\n",
    "data_train_Dos = data_train.iloc[:, :-7]\n",
    "data_train_Dos['DoS'] = data_train['DoS']\n",
    "\n",
    "data_train_ProbeAttack = data_train.iloc[:, :-7]\n",
    "data_train_ProbeAttack['Probe'] = data_train['Probe']\n",
    "\n",
    "data_train_R2L = data_train.iloc[:, :-7]\n",
    "data_train_R2L['R2L'] = data_train['R2L']\n",
    "\n",
    "data_train_U2R = data_train.iloc[:, :-7]\n",
    "data_train_U2R['U2R'] = data_train['U2R']\n",
    "\n",
    "data_test_normal = data_test.iloc[:, :-7]\n",
    "data_test_normal['normal'] = data_test['normal'] # 1 if thereis no Attack\n",
    "\n",
    "data_test_Dos = data_test.iloc[:, :-7]\n",
    "data_test_Dos['DoS'] = data_test['DoS']\n",
    "\n",
    "data_test_ProbeAttack = data_test.iloc[:, :-7]\n",
    "data_test_ProbeAttack['Probe'] = data_test['Probe']\n",
    "\n",
    "data_test_R2L = data_test.iloc[:, :-7]\n",
    "data_test_R2L['R2L'] = data_test['R2L']\n",
    "\n",
    "data_test_U2R = data_test.iloc[:, :-7]\n",
    "data_test_U2R['U2R'] = data_test['U2R']"
   ]
  },
  {
   "cell_type": "code",
   "execution_count": null,
   "id": "45fb1bfe",
   "metadata": {},
   "outputs": [],
   "source": [
    "Y_value_counts = data_train_normal['normal'].value_counts() +data_test_normal['normal'].value_counts()\n",
    "\n",
    "colors = ['#66b3ff', '#99ff99']\n",
    "\n",
    "plt.figure(figsize=(8, 6))\n",
    "plt.pie(Y_value_counts, labels=Y_value_counts.index, autopct='%1.1f%%', colors=colors)\n",
    "\n",
    "plt.xlabel('normal Distrebution')\n",
    "plt.title('normal Distrebution')\n",
    "\n",
    "plt.show()\n",
    "Y_value_counts = data_train_Dos['DoS'].value_counts() +data_test_Dos['DoS'].value_counts()\n",
    "\n",
    "colors = ['#66b3ff', '#99ff99']\n",
    "\n",
    "plt.figure(figsize=(8, 6))\n",
    "plt.pie(Y_value_counts, labels=Y_value_counts.index, autopct='%1.1f%%', colors=colors)\n",
    "\n",
    "plt.xlabel('DOS Distrebution')\n",
    "plt.title('DOS Distrebution')\n",
    "\n",
    "plt.show()\n",
    "Y_value_counts = data_train_U2R['U2R'].value_counts() +data_test_U2R['U2R'].value_counts()\n",
    "\n",
    "colors = ['#66b3ff', '#99ff99']\n",
    "\n",
    "plt.figure(figsize=(8, 6))\n",
    "plt.pie(Y_value_counts, labels=Y_value_counts.index, autopct='%1.11f%%', colors=colors)\n",
    "\n",
    "plt.xlabel('U2R Distrebution')\n",
    "plt.title('U2R Distrebution')\n",
    "\n",
    "plt.show()\n",
    "Y_value_counts = data_train_ProbeAttack['Probe'].value_counts() +data_test_ProbeAttack['Probe'].value_counts()\n",
    "\n",
    "colors = ['#66b3ff', '#99ff99']\n",
    "\n",
    "plt.figure(figsize=(8, 6))\n",
    "plt.pie(Y_value_counts, labels=Y_value_counts.index, autopct='%1.11f%%', colors=colors)\n",
    "\n",
    "plt.xlabel('ProbeAttack Distrebution')\n",
    "plt.title('ProbeAttack Distribution')\n",
    "\n",
    "plt.show()\n",
    "Y_value_counts = data_train_R2L['R2L'].value_counts() +data_test_R2L['R2L'].value_counts()\n",
    "\n",
    "colors = ['#66b3ff', '#99ff99']\n",
    "\n",
    "plt.figure(figsize=(8, 6))\n",
    "plt.pie(Y_value_counts, labels=Y_value_counts.index, autopct='%1.11f%%', colors=colors)\n",
    "\n",
    "plt.xlabel('R2L Distribution')\n",
    "plt.title('R2L Distribution')\n",
    "\n",
    "plt.show()"
   ]
  },
  {
   "cell_type": "markdown",
   "id": "ee1e9cb6",
   "metadata": {},
   "source": [
    "# Balancing the sub data sets"
   ]
  },
  {
   "cell_type": "code",
   "execution_count": null,
   "id": "d3a39f49",
   "metadata": {
    "scrolled": true
   },
   "outputs": [],
   "source": [
    "import matplotlib.pyplot as plt\n",
    "import pandas as pd\n",
    "from imblearn.over_sampling import RandomOverSampler\n",
    "from imblearn.under_sampling import RandomUnderSampler\n",
    "def balance_dataset(data_train, data_test, attack_type, normal_type):\n",
    "    oversampler = RandomOverSampler(sampling_strategy='minority', random_state=42)\n",
    "    undersampler = RandomUnderSampler(sampling_strategy='majority', random_state=42)\n",
    "\n",
    "    X_train = data_train.drop(columns=[attack_type, normal_type])\n",
    "    y_train = data_train[attack_type]\n",
    "    X_train_over, y_train_over = oversampler.fit_resample(X_train, y_train)\n",
    "    X_train_balanced, y_train_balanced = undersampler.fit_resample(X_train_over, y_train_over)\n",
    "    data_train_balanced = pd.concat([X_train_balanced, y_train_balanced], axis=1)\n",
    "    data_test_balanced = pd.concat([data_test.drop(columns=[attack_type, normal_type]), data_test[attack_type]], axis=1)\n",
    "\n",
    "    return data_train_balanced, data_test_balanced\n",
    "data_train_DoS_balanced, data_test_DoS_balanced= balance_dataset(data_train, data_test, 'DoS', 'normal')\n",
    "data_train_U2R_balanced, data_test_U2R_balanced = balance_dataset(data_train, data_test, 'U2R', 'normal')\n",
    "data_train_ProbeAttack_balanced, data_test_ProbeAttack_balanced = balance_dataset(data_train, data_test, 'Probe', 'normal')\n",
    "data_train_R2L_balanced, data_test_R2L_balanced = balance_dataset(data_train, data_test, 'R2L', 'normal')\n",
    "def plot_pie_chart(Y_value_counts, title):\n",
    "    colors = ['#66b3ff', '#99ff99']\n",
    "    plt.figure(figsize=(8, 6))\n",
    "    plt.pie(Y_value_counts, labels=Y_value_counts.index, autopct='%1.1f%%', colors=colors)\n",
    "    plt.xlabel(f'{title} Distribution')\n",
    "    plt.title(f'{title} Distribution')\n",
    "    plt.show()\n",
    "Y_value_counts_Dos = data_train_DoS_balanced['DoS'].value_counts() + data_test_DoS_balanced['DoS'].value_counts()\n",
    "plot_pie_chart(Y_value_counts_Dos, 'DoS')\n",
    "\n",
    "Y_value_counts_U2R = data_train_U2R_balanced['U2R'].value_counts() + data_test_U2R_balanced['U2R'].value_counts()\n",
    "plot_pie_chart(Y_value_counts_U2R, 'U2R')\n",
    "\n",
    "Y_value_counts_ProbeAttack = data_train_ProbeAttack_balanced['Probe'].value_counts() + data_test_ProbeAttack_balanced['Probe'].value_counts()\n",
    "plot_pie_chart(Y_value_counts_ProbeAttack, 'ProbeAttack')\n",
    "\n",
    "Y_value_counts_R2L = data_train_R2L_balanced['R2L'].value_counts() + data_test_R2L_balanced['R2L'].value_counts()\n",
    "plot_pie_chart(Y_value_counts_R2L, 'R2L')"
   ]
  },
  {
   "cell_type": "code",
   "execution_count": null,
   "id": "a6cbbf4b",
   "metadata": {},
   "outputs": [],
   "source": [
    "data_train_ProbeAttack_balanced"
   ]
  },
  {
   "cell_type": "code",
   "execution_count": null,
   "id": "c1427bf4",
   "metadata": {},
   "outputs": [],
   "source": [
    "data_train_Dos = data_train_DoS_balanced\n",
    "data_test_U2R = data_train_U2R_balanced\n",
    "data_train_ProbeAttack = data_train_ProbeAttack_balanced\n",
    "data_train_R2L = data_train_R2L_balanced\n",
    "\n",
    "data_test_Dos = data_test_DoS_balanced\n",
    "data_test_ProbeAttack = data_test_ProbeAttack_balanced\n",
    "data_test_R2L = data_test_R2L_balanced\n",
    "data_test_U2R = data_test_U2R_balanced"
   ]
  },
  {
   "cell_type": "code",
   "execution_count": null,
   "id": "c2d4d4ae",
   "metadata": {},
   "outputs": [],
   "source": [
    "data_train_ProbeAttack.shape"
   ]
  },
  {
   "cell_type": "code",
   "execution_count": null,
   "id": "2a518032",
   "metadata": {},
   "outputs": [],
   "source": [
    "data_train_Dos = data_train_DoS_balanced.iloc[:, :-8]\n",
    "data_train_Dos['DoS'] = data_train_DoS_balanced['DoS']\n",
    "data_train_ProbeAttack = data_train_ProbeAttack_balanced.iloc[:, :-8]\n",
    "data_train_ProbeAttack['Probe'] = data_train_ProbeAttack_balanced['Probe']\n",
    "\n",
    "data_train_R2L = data_train_R2L_balanced.iloc[:, :-8]\n",
    "data_train_R2L['R2L'] = data_train_R2L_balanced['R2L']\n",
    "\n",
    "data_train_U2R = data_train_U2R_balanced.iloc[:, :-8]\n",
    "data_train_U2R['U2R'] = data_train_U2R_balanced['U2R']\n",
    "\n",
    "data_test_Dos = data_test_DoS_balanced.iloc[:, :-8]\n",
    "data_test_Dos['DoS'] = data_test_DoS_balanced['DoS']\n",
    "\n",
    "data_test_ProbeAttack = data_test_ProbeAttack_balanced.iloc[:, :-8]\n",
    "data_test_ProbeAttack['Probe'] = data_test_ProbeAttack_balanced['Probe']\n",
    "\n",
    "data_test_R2L = data_test_R2L_balanced.iloc[:, :-8]\n",
    "data_test_R2L['R2L'] = data_test_R2L_balanced['R2L']\n",
    "\n",
    "data_test_U2R = data_test_U2R_balanced.iloc[:, :-8]\n",
    "data_test_U2R['U2R'] = data_test_U2R_balanced['U2R']"
   ]
  },
  {
   "cell_type": "markdown",
   "id": "043841fa",
   "metadata": {},
   "source": [
    "## 6) Data Normalization For The KNN"
   ]
  },
  {
   "cell_type": "code",
   "execution_count": null,
   "id": "aa402e61",
   "metadata": {},
   "outputs": [],
   "source": [
    "def normalize_data(data):\n",
    "    scaler = StandardScaler()\n",
    "    data_normalized = pd.DataFrame(scaler.fit_transform(data), columns=data.columns)\n",
    "    return data_normalized\n",
    "\n",
    "data_train_normal_Normalized = normalize_data(data_train_normal)\n",
    "data_train_Dos_Normalized = normalize_data(data_train_Dos)\n",
    "data_train_ProbeAttack_Normalized = normalize_data(data_train_ProbeAttack)\n",
    "data_train_R2L_Normalized = normalize_data(data_train_R2L)\n",
    "data_train_U2R_Normalized = normalize_data(data_train_U2R)\n",
    "\n",
    "data_test_normal_Normalized = normalize_data(data_test_normal)\n",
    "data_test_Dos_Normalized = normalize_data(data_test_Dos)\n",
    "data_test_ProbeAttack_Normalized = normalize_data(data_test_ProbeAttack)\n",
    "data_test_R2L_Normalized = normalize_data(data_test_R2L)\n",
    "data_test_U2R_Normalized = normalize_data(data_test_U2R)"
   ]
  },
  {
   "cell_type": "markdown",
   "id": "c55a788d",
   "metadata": {},
   "source": [
    "<font color='blue' ><h3> \n",
    "III.2. Feature Selection Anova :</p><h3>"
   ]
  },
  {
   "cell_type": "code",
   "execution_count": null,
   "id": "3515f951",
   "metadata": {},
   "outputs": [],
   "source": [
    "from sklearn.feature_selection import SelectPercentile, f_classif"
   ]
  },
  {
   "cell_type": "markdown",
   "id": "6a41f6cc",
   "metadata": {},
   "source": [
    "<font color='green' ><h3> \n",
    "III.2.1. normal</p><h3>"
   ]
  },
  {
   "cell_type": "code",
   "execution_count": null,
   "id": "ff9be110",
   "metadata": {},
   "outputs": [],
   "source": [
    "normal_features_train = data_train_normal_Normalized.columns[:-1]\n",
    "normal_target_train = data_train_normal_Normalized.normal\n",
    "normal_features_test = data_test_normal_Normalized.columns[:-1]\n",
    "normal_target_test = data_test_normal_Normalized.normal"
   ]
  },
  {
   "cell_type": "code",
   "execution_count": null,
   "id": "9f0391ef",
   "metadata": {},
   "outputs": [],
   "source": [
    "selector = SelectPercentile(f_classif)\n",
    "data_train_selected = selector.fit_transform(data_train_normal_Normalized[normal_features_train], normal_target_train)\n",
    "data_test_selected = selector.transform(data_test_normal_Normalized[normal_features_test])\n",
    "selected_feature_names = data_train_normal_Normalized[normal_features_train].columns[selector.get_support()]\n",
    "\n",
    "print(\"Selected Features:\", ', '.join(selected_feature_names))"
   ]
  },
  {
   "cell_type": "markdown",
   "id": "526479d3",
   "metadata": {},
   "source": [
    "<font color='green' ><h3> \n",
    "III.2.2. Dos</p><h3>"
   ]
  },
  {
   "cell_type": "code",
   "execution_count": null,
   "id": "e853a1e9",
   "metadata": {},
   "outputs": [],
   "source": [
    "Dos_features_train = data_train_Dos_Normalized.columns[:-1]\n",
    "Dos_target_train = data_train_Dos_Normalized.DoS\n",
    "Dos_features_test = data_test_Dos_Normalized.columns[:-1]\n",
    "Dos_target_test = data_test_Dos_Normalized.DoS"
   ]
  },
  {
   "cell_type": "code",
   "execution_count": null,
   "id": "08d1c28a",
   "metadata": {},
   "outputs": [],
   "source": [
    "selector = SelectPercentile(f_classif)\n",
    "data_train_selected = selector.fit_transform(data_train_Dos_Normalized[Dos_features_train], Dos_target_train)\n",
    "data_test_selected = selector.transform(data_test_Dos_Normalized[Dos_features_test])\n",
    "selected_feature_names = data_train_Dos_Normalized[Dos_features_train].columns[selector.get_support()]\n",
    "\n",
    "print(\"Selected Features:\", ', '.join(selected_feature_names))"
   ]
  },
  {
   "cell_type": "markdown",
   "id": "363ade45",
   "metadata": {},
   "source": [
    "<font color='green' ><h3> \n",
    "III.2.3. ProbeAttack</p><h3>"
   ]
  },
  {
   "cell_type": "code",
   "execution_count": null,
   "id": "3155615a",
   "metadata": {},
   "outputs": [],
   "source": [
    "ProbeAttack_features_train = data_train_ProbeAttack_Normalized.columns[:-1]\n",
    "ProbeAttack_target_train = data_train_ProbeAttack_Normalized.Probe\n",
    "ProbeAttack_features_test = data_test_ProbeAttack_Normalized.columns[:-1]\n",
    "ProbeAttack_target_test = data_test_ProbeAttack_Normalized.Probe"
   ]
  },
  {
   "cell_type": "code",
   "execution_count": null,
   "id": "c4fa0ad8",
   "metadata": {},
   "outputs": [],
   "source": [
    "selector = SelectPercentile(f_classif)\n",
    "data_train_selected = selector.fit_transform(data_train_ProbeAttack_Normalized[ProbeAttack_features_train], ProbeAttack_target_train)\n",
    "data_test_selected = selector.transform(data_test_ProbeAttack_Normalized[ProbeAttack_features_test])\n",
    "selected_feature_names = data_train_ProbeAttack_Normalized[ProbeAttack_features_train].columns[selector.get_support()]\n",
    "\n",
    "print(\"Selected Features:\", ', '.join(selected_feature_names))"
   ]
  },
  {
   "cell_type": "markdown",
   "id": "3445d4eb",
   "metadata": {},
   "source": [
    "<font color='green' ><h3> \n",
    "III.2.4. R2L</p><h3>"
   ]
  },
  {
   "cell_type": "code",
   "execution_count": null,
   "id": "c5c935ce",
   "metadata": {},
   "outputs": [],
   "source": [
    "R2L_features_train = data_train_R2L_Normalized.columns[:-1]\n",
    "R2L_target_train = data_train_R2L_Normalized.R2L\n",
    "R2L_features_test = data_test_R2L_Normalized.columns[:-1]\n",
    "R2L_target_test = data_test_R2L_Normalized.R2L"
   ]
  },
  {
   "cell_type": "code",
   "execution_count": null,
   "id": "b1f8729e",
   "metadata": {},
   "outputs": [],
   "source": [
    "selector = SelectPercentile(f_classif)\n",
    "data_train_selected = selector.fit_transform(data_train_R2L_Normalized[R2L_features_train], R2L_target_train)\n",
    "data_test_selected = selector.transform(data_test_R2L_Normalized[R2L_features_test])\n",
    "selected_feature_names = data_train_R2L_Normalized[R2L_features_train].columns[selector.get_support()]\n",
    "\n",
    "print(\"Selected Features:\", ', '.join(selected_feature_names))"
   ]
  },
  {
   "cell_type": "markdown",
   "id": "3fd9c0ec",
   "metadata": {},
   "source": [
    "\n",
    "<font color='green' ><h3> \n",
    "III.2.5. U2R</p><h3>"
   ]
  },
  {
   "cell_type": "code",
   "execution_count": null,
   "id": "66ef75d7",
   "metadata": {},
   "outputs": [],
   "source": [
    "U2R_features_train = data_train_U2R_Normalized.columns[:-1]\n",
    "U2R_target_train = data_train_U2R_Normalized.U2R\n",
    "U2R_features_test = data_test_U2R_Normalized.columns[:-1]\n",
    "U2R_target_test = data_test_U2R_Normalized.U2R"
   ]
  },
  {
   "cell_type": "code",
   "execution_count": null,
   "id": "15d2f6d5",
   "metadata": {},
   "outputs": [],
   "source": [
    "selector = SelectPercentile(f_classif)\n",
    "data_train_selected = selector.fit_transform(data_train_U2R_Normalized[U2R_features_train], U2R_target_train)\n",
    "data_test_selected = selector.transform(data_test_U2R_Normalized[U2R_features_test])\n",
    "selected_feature_names = data_train_U2R_Normalized[U2R_features_train].columns[selector.get_support()]\n",
    "\n",
    "print(\"Selected Features:\", ', '.join(selected_feature_names))"
   ]
  },
  {
   "cell_type": "markdown",
   "id": "bf06813d",
   "metadata": {},
   "source": [
    "<font color='red' ><h3> \n",
    "IV .MODELING :  </p><h3>"
   ]
  },
  {
   "cell_type": "markdown",
   "id": "e75520cd",
   "metadata": {},
   "source": [
    "### 1) Decision Tree:"
   ]
  },
  {
   "cell_type": "code",
   "execution_count": null,
   "id": "b5d1ce7d",
   "metadata": {},
   "outputs": [],
   "source": [
    "from sklearn.tree import DecisionTreeClassifier\n",
    "from sklearn.tree import plot_tree\n",
    "from sklearn.metrics import accuracy_score, precision_score, recall_score, f1_score, classification_report\n",
    "from sklearn.model_selection import GridSearchCV"
   ]
  },
  {
   "cell_type": "markdown",
   "id": "61aa723a",
   "metadata": {},
   "source": [
    "<font color='green' ><h3> \n",
    "IV.1.1 normal:</p><h3>"
   ]
  },
  {
   "cell_type": "code",
   "execution_count": null,
   "id": "f0a4c5d7",
   "metadata": {},
   "outputs": [],
   "source": [
    "data_train_normal_dt = data_train_normal[data_train_normal.columns[:-1]]\n",
    "Y_train_normal_dt = data_train_normal.normal\n",
    "data_test_normal_dt = data_test_normal[data_test_normal.columns[:-1]]\n",
    "Y_test_normal_dt = data_test_normal.normal"
   ]
  },
  {
   "cell_type": "code",
   "execution_count": null,
   "id": "b7bb4e91",
   "metadata": {},
   "outputs": [],
   "source": [
    "clf = DecisionTreeClassifier()\n",
    "clf_normal_dt = clf.fit(data_train_normal_dt,Y_train_normal_dt)\n",
    "y_pred = clf_normal_dt.predict(data_test_normal_dt)"
   ]
  },
  {
   "cell_type": "code",
   "execution_count": null,
   "id": "d2acca3e",
   "metadata": {},
   "outputs": [],
   "source": [
    "param_grid = {\n",
    "    'criterion': ['gini','entropy'],\n",
    "    'max_depth': [11 , 12 , 13 , 14 , 15 , 16 , 17]\n",
    "}\n",
    "\n",
    "\n",
    "grid_search = GridSearchCV(clf, param_grid, cv=5, scoring='accuracy', n_jobs=-1)\n",
    "grid_search.fit(data_train_normal_dt, Y_train_normal_dt)\n",
    "\n",
    "print(\"best hyperparametres:\", grid_search.best_params_)"
   ]
  },
  {
   "cell_type": "code",
   "execution_count": null,
   "id": "4221f71b",
   "metadata": {},
   "outputs": [],
   "source": [
    "clf = DecisionTreeClassifier(criterion='entropy',max_depth=14)\n",
    "clf_normal_dt = clf.fit(data_train_normal_dt,Y_train_normal_dt)\n",
    "y_pred = clf_normal_dt.predict(data_test_normal_dt)"
   ]
  },
  {
   "cell_type": "code",
   "execution_count": null,
   "id": "c36f3f83",
   "metadata": {},
   "outputs": [],
   "source": [
    "confusion_matrix = metrics.confusion_matrix(Y_test_normal_dt, y_pred)\n",
    "cm_display = metrics.ConfusionMatrixDisplay(confusion_matrix = confusion_matrix, display_labels = [False, True])\n",
    "cm_display.plot()\n",
    "plt.show()"
   ]
  },
  {
   "cell_type": "code",
   "execution_count": null,
   "id": "e707d960",
   "metadata": {},
   "outputs": [],
   "source": [
    "class_report_rf_normal = classification_report(Y_test_normal_dt,y_pred,output_dict=True)\n",
    "class_metrics_rf_normal = class_report_rf_normal['1']\n",
    "\n",
    "accuracy_normal_dt = class_report_rf_normal['accuracy']\n",
    "precision_normal_dt = class_metrics_rf_normal['precision']\n",
    "recall_normal_dt = class_metrics_rf_normal['recall']\n",
    "f1Score_normal_dt = class_metrics_rf_normal['f1-score']\n",
    "\n",
    "print(f\"Accuracy: {accuracy_normal_dt}\")\n",
    "print(f\"Precision: {precision_normal_dt}\")\n",
    "print(f\"Recall: {recall_normal_dt}\")\n",
    "print(f\"F1-score: {f1Score_normal_dt}\")"
   ]
  },
  {
   "cell_type": "code",
   "execution_count": null,
   "id": "a1f7d860",
   "metadata": {},
   "outputs": [],
   "source": [
    "feature_names = data_train_normal.columns[:-1]\n",
    "plt.figure(figsize=(40,20))\n",
    "plot_tree(clf, filled=True, feature_names=data_train_normal.columns[:-1], class_names=['0', '1'])\n",
    "plt.show()"
   ]
  },
  {
   "cell_type": "markdown",
   "id": "6485e3ce",
   "metadata": {},
   "source": [
    "<font color='green' ><h3> \n",
    "IV.1.2 DoS</p><h3>"
   ]
  },
  {
   "cell_type": "code",
   "execution_count": null,
   "id": "1de41901",
   "metadata": {},
   "outputs": [],
   "source": [
    "data_train_Dos_dt = data_train_Dos[data_train_Dos.columns[:-1]]\n",
    "Y_train_Dos_dt = data_train_Dos.DoS\n",
    "data_test_Dos_dt = data_test_Dos[data_test_Dos.columns[:-1]]\n",
    "Y_test_Dos_dt = data_test_Dos.DoS\n",
    "\n",
    "data_train_normal=data_train_normal[data_train_Dos_dt.columns]\n",
    "data_test_normal=data_test_normal[data_train_Dos_dt.columns]"
   ]
  },
  {
   "cell_type": "code",
   "execution_count": null,
   "id": "47e50da9",
   "metadata": {},
   "outputs": [],
   "source": [
    "clf = DecisionTreeClassifier()\n",
    "clf_Dos_dt = clf.fit(data_train_Dos_dt,Y_train_Dos_dt)\n",
    "y_pred = clf_Dos_dt.predict(data_test_Dos_dt)"
   ]
  },
  {
   "cell_type": "code",
   "execution_count": null,
   "id": "9a7b6c4e",
   "metadata": {},
   "outputs": [],
   "source": [
    "param_grid = {\n",
    "    'criterion': ['gini','entropy'],\n",
    "    'max_depth': [11 , 12 , 13 , 14 , 15 , 16 , 17]\n",
    "}\n",
    "\n",
    "\n",
    "grid_search = GridSearchCV(clf, param_grid, cv=5, scoring='accuracy', n_jobs=-1)\n",
    "grid_search.fit(data_train_Dos_dt, Y_train_Dos_dt)\n",
    "\n",
    "print(\"best hyperparametres:\", grid_search.best_params_)"
   ]
  },
  {
   "cell_type": "code",
   "execution_count": null,
   "id": "2c5c14ba",
   "metadata": {},
   "outputs": [],
   "source": [
    "clf = DecisionTreeClassifier(criterion='gini',max_depth=15)\n",
    "clf_Dos_dt = clf.fit(data_train_Dos_dt,Y_train_Dos_dt)\n",
    "y_pred = clf_Dos_dt.predict(data_test_Dos_dt)"
   ]
  },
  {
   "cell_type": "code",
   "execution_count": null,
   "id": "2093b9e8",
   "metadata": {},
   "outputs": [],
   "source": [
    "confusion_matrix = metrics.confusion_matrix(Y_test_Dos_dt, y_pred)\n",
    "cm_display = metrics.ConfusionMatrixDisplay(confusion_matrix = confusion_matrix, display_labels = [False, True])\n",
    "cm_display.plot()\n",
    "plt.show()"
   ]
  },
  {
   "cell_type": "code",
   "execution_count": null,
   "id": "d5b6b93f",
   "metadata": {},
   "outputs": [],
   "source": [
    "class_report_rf_dos = classification_report(Y_test_Dos_dt,y_pred,output_dict=True)\n",
    "class_metrics_rf_dos = class_report_rf_dos['1']\n",
    "\n",
    "accuracy_dos_dt = class_report_rf_dos['accuracy']\n",
    "precision_dos_dt = class_metrics_rf_dos['precision']\n",
    "recall_dos_dt = class_metrics_rf_dos['recall']\n",
    "f1Score_dos_dt = class_metrics_rf_dos['f1-score']\n",
    "\n",
    "print(f\"Accuracy: {accuracy_dos_dt}\")\n",
    "print(f\"Precision: {precision_dos_dt}\")\n",
    "print(f\"Recall: {recall_dos_dt}\")\n",
    "print(f\"F1-score: {f1Score_dos_dt}\")"
   ]
  },
  {
   "cell_type": "code",
   "execution_count": null,
   "id": "7b9f6c7f",
   "metadata": {},
   "outputs": [],
   "source": [
    "feature_names = data_train_Dos.columns[:-1]\n",
    "plt.figure(figsize=(40,20))\n",
    "plot_tree(clf, filled=True, feature_names=data_train_Dos.columns[:-1], class_names=['0', '1'])\n",
    "plt.show()"
   ]
  },
  {
   "cell_type": "markdown",
   "id": "b8594a49",
   "metadata": {},
   "source": [
    "<font color='green' ><h3> \n",
    "IV.1.3 ProbeAttack</p><h3>\n"
   ]
  },
  {
   "cell_type": "code",
   "execution_count": null,
   "id": "fb3dd1f4",
   "metadata": {},
   "outputs": [],
   "source": [
    "data_train_ProbeAttack_dt = data_train_ProbeAttack[data_train_ProbeAttack.columns[:-1]]\n",
    "Y_train_ProbeAttack_dt = data_train_ProbeAttack.Probe\n",
    "data_test_ProbeAttack_dt = data_test_ProbeAttack[data_test_ProbeAttack.columns[:-1]]\n",
    "Y_test_ProbeAttack_dt = data_test_ProbeAttack.Probe"
   ]
  },
  {
   "cell_type": "code",
   "execution_count": null,
   "id": "ec678b39",
   "metadata": {},
   "outputs": [],
   "source": [
    "data_train_ProbeAttack_dt.shape"
   ]
  },
  {
   "cell_type": "code",
   "execution_count": null,
   "id": "9e54652f",
   "metadata": {},
   "outputs": [],
   "source": [
    "clf = DecisionTreeClassifier()\n",
    "clf_ProbeAttack_dt = clf.fit(data_train_ProbeAttack_dt,Y_train_ProbeAttack_dt)\n",
    "y_pred = clf_ProbeAttack_dt.predict(data_test_ProbeAttack_dt)"
   ]
  },
  {
   "cell_type": "code",
   "execution_count": null,
   "id": "0a4a2e7b",
   "metadata": {},
   "outputs": [],
   "source": [
    "param_grid = {\n",
    "    'criterion': ['gini','entropy'],\n",
    "    'max_depth': [11 , 12 , 13 , 14 , 15]\n",
    "}\n",
    "\n",
    "\n",
    "grid_search = GridSearchCV(clf, param_grid, cv=5, scoring='accuracy', n_jobs=-1)\n",
    "grid_search.fit(data_train_ProbeAttack_dt, Y_train_ProbeAttack_dt)\n",
    "\n",
    "print(\"best hyperparametres:\", grid_search.best_params_)\n"
   ]
  },
  {
   "cell_type": "code",
   "execution_count": null,
   "id": "9900d85f",
   "metadata": {},
   "outputs": [],
   "source": [
    "clf = DecisionTreeClassifier(criterion='entropy',max_depth=14)\n",
    "clf_ProbeAttack_dt = clf.fit(data_train_ProbeAttack_dt,Y_train_ProbeAttack_dt)\n",
    "y_pred = clf_ProbeAttack_dt.predict(data_test_ProbeAttack_dt)"
   ]
  },
  {
   "cell_type": "code",
   "execution_count": null,
   "id": "b23c2972",
   "metadata": {},
   "outputs": [],
   "source": [
    "confusion_matrix = metrics.confusion_matrix(Y_test_ProbeAttack_dt, y_pred)\n",
    "cm_display = metrics.ConfusionMatrixDisplay(confusion_matrix = confusion_matrix, display_labels = [False, True])\n",
    "cm_display.plot()\n",
    "plt.show()"
   ]
  },
  {
   "cell_type": "code",
   "execution_count": null,
   "id": "7e0c06a3",
   "metadata": {},
   "outputs": [],
   "source": [
    "class_report_rf_dos = classification_report(Y_test_ProbeAttack_dt,y_pred,output_dict=True)\n",
    "class_metrics_rf_dos = class_report_rf_dos['1']\n",
    "\n",
    "accuracy_ProbeAttack_dt = class_report_rf_dos['accuracy']\n",
    "precision_ProbeAttack_dt = class_metrics_rf_dos['precision']\n",
    "recall_ProbeAttack_dt = class_metrics_rf_dos['recall']\n",
    "f1Score_ProbeAttack_dt = class_metrics_rf_dos['f1-score']\n",
    "\n",
    "print(f\"Accuracy: {accuracy_ProbeAttack_dt}\")\n",
    "print(f\"Precision: {precision_ProbeAttack_dt}\")\n",
    "print(f\"Recall: {recall_ProbeAttack_dt}\")\n",
    "print(f\"F1-score: {f1Score_ProbeAttack_dt}\")"
   ]
  },
  {
   "cell_type": "code",
   "execution_count": null,
   "id": "4213c27b",
   "metadata": {},
   "outputs": [],
   "source": [
    "feature_names = data_train_ProbeAttack.columns[:-1]\n",
    "plt.figure(figsize=(40,20))\n",
    "plot_tree(clf, filled=True, feature_names=data_train_ProbeAttack.columns[:-1], class_names=['0', '1'])\n",
    "plt.show()"
   ]
  },
  {
   "cell_type": "markdown",
   "id": "851dce44",
   "metadata": {},
   "source": [
    "<font color='green' ><h3> \n",
    "IV.1.4 U2R</p><h3>"
   ]
  },
  {
   "cell_type": "code",
   "execution_count": null,
   "id": "c10cd4bd",
   "metadata": {},
   "outputs": [],
   "source": [
    "data_train_U2R_dt = data_train_U2R[data_train_U2R.columns[:-1]]\n",
    "Y_train_U2R_dt = data_train_U2R.U2R\n",
    "data_test_U2R_dt = data_test_U2R[data_test_U2R.columns[:-1]]\n",
    "Y_test_U2R_dt = data_test_U2R.U2R"
   ]
  },
  {
   "cell_type": "code",
   "execution_count": null,
   "id": "52c329ba",
   "metadata": {},
   "outputs": [],
   "source": [
    "clf = DecisionTreeClassifier()\n",
    "clf_U2R_dt = clf.fit(data_train_U2R_dt,Y_train_U2R_dt)\n",
    "y_pred = clf_U2R_dt.predict(data_test_U2R_dt)"
   ]
  },
  {
   "cell_type": "code",
   "execution_count": null,
   "id": "94465da8",
   "metadata": {},
   "outputs": [],
   "source": [
    "param_grid = {\n",
    "    'criterion': ['gini','entropy'],\n",
    "    'max_depth': [17 , 18 ,19 ,20 , 21]\n",
    "}\n",
    "\n",
    "\n",
    "grid_search = GridSearchCV(clf, param_grid, cv=5, scoring='accuracy', n_jobs=-1)\n",
    "grid_search.fit(data_train_U2R_dt, Y_train_U2R_dt)\n",
    "\n",
    "print(\"best hyperparametres:\", grid_search.best_params_)"
   ]
  },
  {
   "cell_type": "code",
   "execution_count": null,
   "id": "af51a559",
   "metadata": {},
   "outputs": [],
   "source": [
    "clf = DecisionTreeClassifier(criterion='entropy',max_depth=19)\n",
    "clf_U2R_dt = clf.fit(data_train_U2R_dt,Y_train_U2R_dt)\n",
    "y_pred = clf_U2R_dt.predict(data_test_U2R_dt)"
   ]
  },
  {
   "cell_type": "code",
   "execution_count": null,
   "id": "bf184eef",
   "metadata": {},
   "outputs": [],
   "source": [
    "confusion_matrix = metrics.confusion_matrix(Y_test_U2R_dt, y_pred)\n",
    "cm_display = metrics.ConfusionMatrixDisplay(confusion_matrix = confusion_matrix, display_labels = [False, True])\n",
    "cm_display.plot()\n",
    "plt.show()\n",
    "confusion_matrix"
   ]
  },
  {
   "cell_type": "code",
   "execution_count": null,
   "id": "7bb7cd96",
   "metadata": {},
   "outputs": [],
   "source": [
    "class_report_rf_dos = classification_report(Y_test_U2R_dt,y_pred,output_dict=True)\n",
    "class_metrics_rf_dos = class_report_rf_dos['1']\n",
    "\n",
    "accuracy_U2R_dt = class_report_rf_dos['accuracy']\n",
    "precision_U2R_dt = class_metrics_rf_dos['precision']\n",
    "recall_U2R_dt = class_metrics_rf_dos['recall']\n",
    "f1Score_U2R_dt = class_metrics_rf_dos['f1-score']\n",
    "\n",
    "print(f\"Accuracy: {accuracy_U2R_dt}\")\n",
    "print(f\"Precision: {precision_U2R_dt}\")\n",
    "print(f\"Recall: {recall_U2R_dt}\")\n",
    "print(f\"F1-score: {f1Score_U2R_dt}\")"
   ]
  },
  {
   "cell_type": "code",
   "execution_count": null,
   "id": "0f0cdd62",
   "metadata": {},
   "outputs": [],
   "source": [
    "feature_names = data_train_U2R.columns[:-1]\n",
    "plt.figure(figsize=(40,20))\n",
    "plot_tree(clf, filled=True, feature_names=data_train_U2R.columns[:-1], class_names=['0', '1'])\n",
    "plt.show()"
   ]
  },
  {
   "cell_type": "markdown",
   "id": "6fa38a65",
   "metadata": {},
   "source": [
    "<font color='green' ><h3> \n",
    "IV.1.5 R2L</p><h3>"
   ]
  },
  {
   "cell_type": "code",
   "execution_count": null,
   "id": "0c3b33c9",
   "metadata": {},
   "outputs": [],
   "source": [
    "data_train_R2L_dt = data_train_R2L[data_train_R2L.columns[:-1]]\n",
    "Y_train_R2L_dt = data_train_R2L.R2L\n",
    "data_test_R2L_dt = data_test_R2L[data_test_R2L.columns[:-1]]\n",
    "Y_test_R2L_dt = data_test_R2L.R2L"
   ]
  },
  {
   "cell_type": "code",
   "execution_count": null,
   "id": "a89b8a6e",
   "metadata": {},
   "outputs": [],
   "source": [
    "clf = DecisionTreeClassifier()\n",
    "clf_R2L_dt = clf.fit(data_train_R2L_dt,Y_train_R2L_dt)\n",
    "y_pred = clf_R2L_dt.predict(data_test_R2L_dt)"
   ]
  },
  {
   "cell_type": "code",
   "execution_count": null,
   "id": "a0d3db61",
   "metadata": {},
   "outputs": [],
   "source": [
    "param_grid = {\n",
    "    'criterion': ['gini','entropy'],\n",
    "    'max_depth': range(1, 21)\n",
    "}\n",
    "\n",
    "grid_search = GridSearchCV(clf, param_grid, cv=5, scoring='f1', n_jobs=-1)\n",
    "grid_search.fit(data_train_R2L_dt, Y_train_R2L_dt)\n",
    "\n",
    "print(\"best hyperparametres:\", grid_search.best_params_)"
   ]
  },
  {
   "cell_type": "code",
   "execution_count": null,
   "id": "8a1634ed",
   "metadata": {},
   "outputs": [],
   "source": [
    "clf = DecisionTreeClassifier(criterion='entropy',max_depth=15)\n",
    "clf_R2L_dt = clf.fit(data_train_R2L_dt,Y_train_R2L_dt)\n",
    "y_pred = clf_R2L_dt.predict(data_test_R2L_dt)"
   ]
  },
  {
   "cell_type": "code",
   "execution_count": null,
   "id": "d30041f0",
   "metadata": {},
   "outputs": [],
   "source": [
    "confusion_matrix = metrics.confusion_matrix(Y_test_R2L_dt, y_pred)\n",
    "cm_display = metrics.ConfusionMatrixDisplay(confusion_matrix = confusion_matrix, display_labels = [False, True])\n",
    "cm_display.plot()\n",
    "plt.show()\n",
    "confusion_matrix"
   ]
  },
  {
   "cell_type": "code",
   "execution_count": null,
   "id": "6069b1cb",
   "metadata": {},
   "outputs": [],
   "source": [
    "class_report_rf_dos = classification_report(Y_test_R2L_dt,y_pred,output_dict=True)\n",
    "class_metrics_rf_dos = class_report_rf_dos['1']\n",
    "\n",
    "accuracy_R2L_dt = class_report_rf_dos['accuracy']\n",
    "precision_R2L_dt = class_metrics_rf_dos['precision']\n",
    "recall_R2L_dt = class_metrics_rf_dos['recall']\n",
    "f1Score_R2L_dt = class_metrics_rf_dos['f1-score']\n",
    "\n",
    "print(f\"Accuracy: {accuracy_R2L_dt}\")\n",
    "print(f\"Precision: {precision_R2L_dt}\")\n",
    "print(f\"Recall: {recall_R2L_dt}\")\n",
    "print(f\"F1-score: {f1Score_R2L_dt}\")"
   ]
  },
  {
   "cell_type": "code",
   "execution_count": null,
   "id": "6d2b2ece",
   "metadata": {},
   "outputs": [],
   "source": [
    "feature_names = data_train_R2L.columns[:-1]\n",
    "plt.figure(figsize=(40,20))\n",
    "plot_tree(clf, filled=True, feature_names=data_train_R2L.columns[:-1], class_names=['0', '1'])\n",
    "plt.show()"
   ]
  },
  {
   "cell_type": "markdown",
   "id": "2ad24028",
   "metadata": {},
   "source": [
    "### 2) Random Forest:"
   ]
  },
  {
   "cell_type": "code",
   "execution_count": null,
   "id": "7739d550",
   "metadata": {},
   "outputs": [],
   "source": [
    "from sklearn.ensemble import RandomForestClassifier"
   ]
  },
  {
   "cell_type": "markdown",
   "id": "5155d144",
   "metadata": {},
   "source": [
    "<font color='green' ><h3> \n",
    "IV.2.1 normal</p><h3>"
   ]
  },
  {
   "cell_type": "code",
   "execution_count": null,
   "id": "9d09c822",
   "metadata": {},
   "outputs": [],
   "source": [
    "feature_names = data_train_R2L.columns[:-1]\n",
    "plt.figure(figsize=(40,20))\n",
    "plot_tree(clf, filled=True, feature_names=data_train_R2L.columns[:-1], class_names=['0', '1'])\n",
    "plt.show()"
   ]
  },
  {
   "cell_type": "code",
   "execution_count": null,
   "id": "eeefefd5",
   "metadata": {},
   "outputs": [],
   "source": [
    "class_report_rf_normal = classification_report(Y_test_normal_dt,y_pred_clf1,output_dict=True)\n",
    "class_metrics_rf_normal = class_report_rf_normal['1']\n",
    "\n",
    "accuracy_rf_normal = class_report_rf_normal['accuracy']\n",
    "precision_rf_normal = class_metrics_rf_normal['precision']\n",
    "recall_rf_normal = class_metrics_rf_normal['recall']\n",
    "f1_score_rf_normal = class_metrics_rf_normal['f1-score']\n",
    "\n",
    "print(f\"Accuracy: {accuracy_rf_normal}\")\n",
    "print(f\"Precision: {precision_rf_normal}\")\n",
    "print(f\"Recall: {recall_rf_normal}\")\n",
    "print(f\"F1-score: {f1_score_rf_normal}\")"
   ]
  },
  {
   "cell_type": "markdown",
   "id": "fd565913",
   "metadata": {},
   "source": [
    "<font color='green' ><h3> \n",
    "IV.2.2 DoS</p><h3>"
   ]
  },
  {
   "cell_type": "code",
   "execution_count": null,
   "id": "2df3d31a",
   "metadata": {},
   "outputs": [],
   "source": [
    "clf1 = RandomForestClassifier(criterion='gini', max_depth=15)\n",
    "clf1.fit(data_train_Dos_dt,Y_train_Dos_dt)\n",
    "y_pred_clf1 = clf1.predict(data_test_Dos_dt)"
   ]
  },
  {
   "cell_type": "code",
   "execution_count": null,
   "id": "d0729509",
   "metadata": {},
   "outputs": [],
   "source": [
    "class_report_rf_dos = classification_report(Y_test_Dos_dt,y_pred_clf1,output_dict=True)\n",
    "class_metrics_rf_dos = class_report_rf_dos['1']\n",
    "\n",
    "accuracy_rf_dos = class_report_rf_dos['accuracy']\n",
    "precision_rf_dos = class_metrics_rf_dos['precision']\n",
    "recall_rf_dos = class_metrics_rf_dos['recall']\n",
    "f1_score_rf_dos = class_metrics_rf_dos['f1-score']\n",
    "\n",
    "print(f\"Accuracy: {accuracy_rf_dos}\")\n",
    "print(f\"Precision: {precision_rf_dos}\")\n",
    "print(f\"Recall: {recall_rf_dos}\")\n",
    "print(f\"F1-score: {f1_score_rf_dos}\")"
   ]
  },
  {
   "cell_type": "markdown",
   "id": "e60807b6",
   "metadata": {},
   "source": [
    "<font color='green' ><h3> \n",
    "IV.2.3 ProbeAttack</p><h3>"
   ]
  },
  {
   "cell_type": "code",
   "execution_count": null,
   "id": "0a09884b",
   "metadata": {},
   "outputs": [],
   "source": [
    "clf1 = RandomForestClassifier(criterion='entropy', max_depth=13)\n",
    "clf1.fit(data_train_ProbeAttack_dt,Y_train_ProbeAttack_dt)\n",
    "y_pred_clf1 = clf1.predict(data_test_ProbeAttack_dt)"
   ]
  },
  {
   "cell_type": "code",
   "execution_count": null,
   "id": "5098178f",
   "metadata": {},
   "outputs": [],
   "source": [
    "class_report_rf_ProbeAttack = classification_report(Y_test_ProbeAttack_dt,y_pred_clf1,digits=2,output_dict=True)\n",
    "class_metrics_rf_ProbeAttack = class_report_rf_ProbeAttack['1']\n",
    "\n",
    "accuracy_rf_ProbeAttack = class_report_rf_ProbeAttack['accuracy']\n",
    "precision_rf_ProbeAttack = class_metrics_rf_ProbeAttack['precision']\n",
    "recall_rf_ProbeAttack = class_metrics_rf_ProbeAttack['recall']\n",
    "f1_score_rf_ProbeAttack = class_metrics_rf_ProbeAttack['f1-score']\n",
    "\n",
    "print(f\"Accuracy: {accuracy_rf_ProbeAttack}\")\n",
    "print(f\"Precision: {precision_rf_ProbeAttack}\")\n",
    "print(f\"Recall: {recall_rf_ProbeAttack}\")\n",
    "print(f\"F1-score: {f1_score_rf_ProbeAttack}\")"
   ]
  },
  {
   "cell_type": "markdown",
   "id": "71151954",
   "metadata": {},
   "source": [
    "<font color='green' ><h3> \n",
    "IV.2.4. U2R</p><h3>"
   ]
  },
  {
   "cell_type": "code",
   "execution_count": null,
   "id": "8e805947",
   "metadata": {},
   "outputs": [],
   "source": [
    "clf1 = RandomForestClassifier(criterion='entropy', max_depth=6)\n",
    "clf1.fit(data_train_U2R_dt,Y_train_U2R_dt)\n",
    "y_pred_clf1 = clf1.predict(data_test_U2R_dt)"
   ]
  },
  {
   "cell_type": "code",
   "execution_count": null,
   "id": "5b95b80f",
   "metadata": {},
   "outputs": [],
   "source": [
    "class_report_rf_U2R = classification_report(Y_test_U2R_dt,y_pred_clf1,digits=2,output_dict=True)\n",
    "class_metrics_rf_U2R = class_report_rf_U2R['1']\n",
    "\n",
    "accuracy_rf_U2R = class_report_rf_U2R['accuracy']\n",
    "precision_rf_U2R = class_metrics_rf_U2R['precision']\n",
    "recall_rf_U2R = class_metrics_rf_U2R['recall']\n",
    "f1_score_rf_U2R = class_metrics_rf_U2R['f1-score']\n",
    "\n",
    "print(f\"Accuracy: {accuracy_rf_U2R}\")\n",
    "print(f\"Precision: {precision_rf_U2R}\")\n",
    "print(f\"Recall: {recall_rf_U2R}\")\n",
    "print(f\"F1-score: {f1_score_rf_U2R}\")"
   ]
  },
  {
   "cell_type": "markdown",
   "id": "de39d75f",
   "metadata": {},
   "source": [
    "<font color='green' ><h3> \n",
    "IV.2.5. R2L</p><h3>"
   ]
  },
  {
   "cell_type": "code",
   "execution_count": null,
   "id": "6f766bc6",
   "metadata": {},
   "outputs": [],
   "source": [
    "clf_R2L = RandomForestClassifier(criterion='entropy', max_depth=4)\n",
    "clf_R2L.fit(data_train_R2L_dt,Y_train_R2L_dt)\n",
    "y_pred_clf1 = clf_R2L.predict(data_test_R2L_dt)"
   ]
  },
  {
   "cell_type": "code",
   "execution_count": null,
   "id": "63b917bf",
   "metadata": {},
   "outputs": [],
   "source": [
    "class_report_rf_R2L = classification_report(Y_test_R2L_dt,y_pred_clf1,digits=2,output_dict=True)\n",
    "class_metrics_rf_R2L = class_report_rf_R2L['1']\n",
    "\n",
    "accuracy_rf_R2L = class_report_rf_R2L['accuracy']\n",
    "precision_rf_R2L = class_metrics_rf_R2L['precision']\n",
    "recall_rf_R2L = class_metrics_rf_R2L['recall']\n",
    "f1_score_rf_R2L = class_metrics_rf_R2L['f1-score']\n",
    "\n",
    "print(f\"Accuracy: {accuracy_rf_R2L}\")\n",
    "print(f\"Precision: {precision_rf_R2L}\")\n",
    "print(f\"Recall: {recall_rf_R2L}\")\n",
    "print(f\"F1-score: {f1_score_rf_R2L}\")"
   ]
  },
  {
   "cell_type": "markdown",
   "id": "03c1b7fc",
   "metadata": {},
   "source": [
    "# 3) KNN:"
   ]
  },
  {
   "cell_type": "code",
   "execution_count": null,
   "id": "ce254444",
   "metadata": {},
   "outputs": [],
   "source": [
    "from sklearn.neighbors import KNeighborsClassifier\n",
    "from sklearn.model_selection import GridSearchCV"
   ]
  },
  {
   "cell_type": "markdown",
   "id": "903be10a",
   "metadata": {},
   "source": [
    "<font color='green' ><h3> \n",
    "IV.3.1. normal</p><h3>"
   ]
  },
  {
   "cell_type": "code",
   "execution_count": null,
   "id": "3afc8922",
   "metadata": {},
   "outputs": [],
   "source": [
    "data_train_normal_Normalized_KNN = data_train_normal_Normalized[data_train_normal_Normalized.columns[:-1]]\n",
    "\n",
    "data_test_normal_Normalized_KNN = data_test_normal_Normalized[data_test_normal_Normalized.columns[:-1]]\n"
   ]
  },
  {
   "cell_type": "code",
   "execution_count": null,
   "id": "11834c76",
   "metadata": {},
   "outputs": [],
   "source": [
    "n_neighbors = list(range(1,21))\n",
    "p=[1,2] #p=2 euclidean_distance\n",
    "hyperparameters = dict(n_neighbors=n_neighbors, p=p)\n",
    "\n",
    "knn_2 = KNeighborsClassifier()\n",
    "\n",
    "clf = GridSearchCV(knn_2, hyperparameters, cv=5,n_jobs=-1)\n",
    "\n",
    "best_model = clf.fit(data_train_normal_Normalized_KNN, Y_train_normal_KNN)\n",
    "\n",
    "print('Best n_neighbors:', best_model.best_estimator_.get_params()['n_neighbors'])\n",
    "print('Best p:', best_model.best_estimator_.get_params()['p'])\n"
   ]
  },
  {
   "cell_type": "code",
   "execution_count": null,
   "id": "751a20be",
   "metadata": {},
   "outputs": [],
   "source": [
    "from sklearn.neighbors import KNeighborsClassifier\n",
    "error = []\n",
    "for i in range(1, 2):\n",
    "    knn = KNeighborsClassifier(i,metric='manhattan')\n",
    "    knn_model = knn.fit(data_train_normal_Normalized_KNN, Y_train_normal_KNN)\n",
    "    pred_i = knn_model.predict(data_test_normal_Normalized_KNN)\n",
    "    error.append(np.mean(pred_i != Y_test_normal_KNN))\n",
    "plt.figure(figsize=(12, 6))\n",
    "plt.plot(range(1, 40), error, color='red', linestyle='dashed', marker='o',\n",
    "         markerfacecolor='blue', markersize=10)\n",
    "plt.title('Taux Erreur pour les differentes valeurs de k')\n",
    "plt.xlabel('K ')\n",
    "plt.ylabel('Erreur')"
   ]
  },
  {
   "cell_type": "code",
   "execution_count": null,
   "id": "a47432d2",
   "metadata": {},
   "outputs": [],
   "source": [
    "knn = KNeighborsClassifier(19,p=2)\n",
    "knn_model = knn.fit(data_train_normal_Normalized_KNN, Y_train_normal_dt)\n",
    "y_pred_knn = knn_model.predict(data_test_normal_Normalized_KNN)"
   ]
  },
  {
   "cell_type": "code",
   "execution_count": null,
   "id": "4c574558",
   "metadata": {},
   "outputs": [],
   "source": [
    "class_report_normal_KNN = classification_report(Y_test_normal_dt,y_pred_knn,output_dict=True)\n",
    "class_metrics_normal = class_report_normal_KNN['1']\n",
    "\n",
    "accuracy_normal_KNN = class_report_normal_KNN['accuracy']\n",
    "precision_normal_KNN = class_metrics_normal['precision']\n",
    "recall_normal_KNN = class_metrics_normal['recall']\n",
    "f1_score_normal_KNN = class_metrics_normal['f1-score']\n",
    "\n",
    "print(f\"Accuracy: {accuracy_normal_KNN}\")\n",
    "print(f\"Precision: {precision_normal_KNN}\")\n",
    "print(f\"Recall: {recall_normal_KNN}\")\n",
    "print(f\"F1-score: {f1_score_normal_KNN}\")"
   ]
  },
  {
   "cell_type": "markdown",
   "id": "292785d5",
   "metadata": {},
   "source": [
    "<font color='green' ><h3> \n",
    "IV.3.2. Dos</p><h3>"
   ]
  },
  {
   "cell_type": "code",
   "execution_count": null,
   "id": "4a081d64",
   "metadata": {},
   "outputs": [],
   "source": [
    "data_train_Dos_Normalized_KNN = data_train_Dos_Normalized[data_train_Dos_Normalized.columns[:-1]]\n",
    "\n",
    "data_test_Dos_Normalized_KNN = data_test_Dos_Normalized[data_test_Dos_Normalized.columns[:-1]]\n"
   ]
  },
  {
   "cell_type": "code",
   "execution_count": null,
   "id": "583c48fa",
   "metadata": {},
   "outputs": [],
   "source": [
    "n_neighbors = list(range(12,21))\n",
    "p=[2] #p=2 euclidean_distance\n",
    "hyperparameters = dict(n_neighbors=n_neighbors, p=p)\n",
    "\n",
    "knn_2 = KNeighborsClassifier()\n",
    "\n",
    "clf = GridSearchCV(knn_2, hyperparameters, cv=5)\n",
    "\n",
    "best_model = clf.fit(data_train_Dos_Normalized_KNN, Y_train_Dos_KNN)\n",
    "\n",
    "print('Best n_neighbors:', best_model.best_estimator_.get_params()['n_neighbors'])"
   ]
  },
  {
   "cell_type": "code",
   "execution_count": null,
   "id": "6e90f83f",
   "metadata": {},
   "outputs": [],
   "source": [
    "from sklearn.neighbors import KNeighborsClassifier\n",
    "error = []\n",
    "for i in range(1, 2):\n",
    "    knn = KNeighborsClassifier(i,metric='manhattan')\n",
    "    knn_model = knn.fit(data_train_Dos_Normalized_KNN, Y_train_Dos_KNN)\n",
    "    pred_i = knn_model.predict(data_test_Dos_Normalized_KNN)\n",
    "    error.append(np.mean(pred_i != Y_test_Dos_KNN))\n",
    "plt.figure(figsize=(12, 6))\n",
    "plt.plot(range(1, 40), error, color='red', linestyle='dashed', marker='o',\n",
    "         markerfacecolor='blue', markersize=10)\n",
    "plt.title('Taux Erreur pour les differentes valeurs de k')\n",
    "plt.xlabel('K ')\n",
    "plt.ylabel('Erreur')"
   ]
  },
  {
   "cell_type": "code",
   "execution_count": null,
   "id": "c399ed0f",
   "metadata": {},
   "outputs": [],
   "source": [
    "knn = KNeighborsClassifier(19,p=2)\n",
    "knn_model = knn.fit(data_train_Dos_Normalized_KNN, Y_train_Dos_dt)\n",
    "y_pred_knn = knn_model.predict(data_test_Dos_Normalized_KNN)"
   ]
  },
  {
   "cell_type": "code",
   "execution_count": null,
   "id": "02347bca",
   "metadata": {},
   "outputs": [],
   "source": [
    "class_report_Dos_KNN = classification_report(Y_test_Dos_dt,y_pred_knn,output_dict=True)\n",
    "class_metrics_Dos = class_report_Dos_KNN['1']\n",
    "\n",
    "accuracy_Dos_KNN = class_report_Dos_KNN['accuracy']\n",
    "precision_Dos_KNN = class_metrics_Dos['precision']\n",
    "recall_Dos_KNN = class_metrics_Dos['recall']\n",
    "f1_score_Dos_KNN = class_metrics_Dos['f1-score']\n",
    "\n",
    "print(f\"Accuracy: {accuracy_Dos_KNN}\")\n",
    "print(f\"Precision: {precision_Dos_KNN}\")\n",
    "print(f\"Recall: {recall_Dos_KNN}\")\n",
    "print(f\"F1-score: {f1_score_Dos_KNN}\")"
   ]
  },
  {
   "cell_type": "markdown",
   "id": "44075a49",
   "metadata": {},
   "source": [
    "<font color='green' ><h3> \n",
    "IV.3.3. ProbeAttack</p><h3>"
   ]
  },
  {
   "cell_type": "code",
   "execution_count": null,
   "id": "6298036b",
   "metadata": {},
   "outputs": [],
   "source": [
    "data_train_ProbAttack_Normalized_KNN = data_train_ProbeAttack_Normalized[data_train_ProbeAttack.columns[:-1]]\n",
    "Y_train_ProbAttack_KNN = Y_train_ProbeAttack_dt\n",
    "data_test_ProbAttack_Normalized_KNN = data_test_ProbeAttack_Normalized[data_test_ProbeAttack.columns[:-1]]\n",
    "Y_test_ProbAttack_KNN = Y_test_ProbeAttack_dt"
   ]
  },
  {
   "cell_type": "code",
   "execution_count": null,
   "id": "4868b34e",
   "metadata": {},
   "outputs": [],
   "source": [
    "n_neighbors = list(range(12,21))\n",
    "p=[2] #p=2 euclidean_distance\n",
    "hyperparameters = dict(n_neighbors=n_neighbors, p=p)\n",
    "\n",
    "knn_2 = KNeighborsClassifier()\n",
    "\n",
    "clf = GridSearchCV(knn_2, hyperparameters, cv=5)\n",
    "\n",
    "best_model = clf.fit(data_train_ProbAttack_Normalized_KNN, Y_train_ProbAttack_KNN)\n",
    "\n",
    "print('Best n_neighbors:', best_model.best_estimator_.get_params()['n_neighbors'])"
   ]
  },
  {
   "cell_type": "code",
   "execution_count": null,
   "id": "bfa2ccc2",
   "metadata": {},
   "outputs": [],
   "source": [
    "knn = KNeighborsClassifier(19,p=2)\n",
    "knn_model = knn.fit(data_train_ProbAttack_Normalized_KNN, Y_train_ProbAttack_KNN)\n",
    "y_pred_PredeAttack_knn = knn_model.predict(data_test_ProbAttack_Normalized_KNN)"
   ]
  },
  {
   "cell_type": "code",
   "execution_count": null,
   "id": "0b844696",
   "metadata": {},
   "outputs": [],
   "source": [
    "class_report_ProbAttack_KNN = classification_report(Y_test_ProbAttack_KNN, y_pred_PredeAttack_knn, output_dict=True)#because we need a directory as out put to extract the accuracy ....\n",
    "\n",
    "class_metrics = class_report_ProbAttack_KNN['1']\n",
    "\n",
    "accuracy_ProbAttack_KNN = class_report_ProbAttack_KNN['accuracy']\n",
    "precision_ProbAttack_KNN = class_metrics['precision']\n",
    "recall_ProbAttack_KNN = class_metrics['recall']\n",
    "f1_score_ProbAttack_KNN = class_metrics['f1-score']\n",
    "\n",
    "print(f\"Accuracy: {accuracy_ProbAttack_KNN}\")\n",
    "print(f\"Precision: {precision_ProbAttack_KNN}\")\n",
    "print(f\"Recall: {recall_ProbAttack_KNN}\")\n",
    "print(f\"F1-score: {f1_score_ProbAttack_KNN}\")"
   ]
  },
  {
   "cell_type": "markdown",
   "id": "c967c4e7",
   "metadata": {},
   "source": [
    "<font color='green' ><h3> \n",
    "IV.3.4. U2R</p><h3>"
   ]
  },
  {
   "cell_type": "code",
   "execution_count": null,
   "id": "c6c7e985",
   "metadata": {},
   "outputs": [],
   "source": [
    "data_train_U2R_Normalized_KNN = data_train_U2R_Normalized[data_train_U2R.columns[:-1]]\n",
    "Y_train_U2R_KNN = Y_train_U2R_dt\n",
    "data_test_U2R_Normalized_KNN = data_test_U2R_Normalized[data_test_U2R.columns[:-1]]\n",
    "Y_test_U2R_KNN = Y_test_U2R_dt"
   ]
  },
  {
   "cell_type": "code",
   "execution_count": null,
   "id": "78b99ff3",
   "metadata": {},
   "outputs": [],
   "source": [
    "n_neighbors = list(range(12,21))\n",
    "p=[2] #p=2 euclidean_distance\n",
    "hyperparameters = dict(n_neighbors=n_neighbors, p=p)\n",
    "\n",
    "knn_2 = KNeighborsClassifier()\n",
    "\n",
    "clf = GridSearchCV(knn_2, hyperparameters, cv=5)\n",
    "\n",
    "best_model = clf.fit(data_train_U2R_Normalized_KNN, Y_train_U2R_KNN)\n",
    "\n",
    "print('Best n_neighbors:', best_model.best_estimator_.get_params()['n_neighbors'])"
   ]
  },
  {
   "cell_type": "code",
   "execution_count": null,
   "id": "cb7d45f3",
   "metadata": {},
   "outputs": [],
   "source": [
    "knn = KNeighborsClassifier(19,p=2)\n",
    "knn_model = knn.fit(data_train_U2R_Normalized_KNN, Y_train_U2R_KNN)\n",
    "y_pred_U2R_knn = knn_model.predict(data_test_U2R_Normalized_KNN)"
   ]
  },
  {
   "cell_type": "code",
   "execution_count": null,
   "id": "39e9896d",
   "metadata": {},
   "outputs": [],
   "source": [
    "class_report_U2R_KNN = classification_report(Y_test_U2R_dt, y_pred_U2R_knn, output_dict=True)\n",
    "class_metrics_U2R = class_report_U2R_KNN['1']\n",
    "\n",
    "accuracy_U2R_KNN = class_report_U2R_KNN['accuracy']\n",
    "precision_U2R_KNN = class_metrics_U2R['precision']\n",
    "recall_U2R_KNN = class_metrics_U2R['recall']\n",
    "f1_score_U2R_KNN = class_metrics_U2R['f1-score']\n",
    "\n",
    "print(f\"Accuracy: {accuracy_U2R_KNN}\")\n",
    "print(f\"Precision: {precision_U2R_KNN}\")\n",
    "print(f\"Recall: {recall_U2R_KNN}\")\n",
    "print(f\"F1-score: {f1_score_U2R_KNN}\")"
   ]
  },
  {
   "cell_type": "markdown",
   "id": "d0e1feb2",
   "metadata": {},
   "source": [
    "<font color='green' ><h3> \n",
    "IV.3.5. R2L</p><h3>"
   ]
  },
  {
   "cell_type": "code",
   "execution_count": null,
   "id": "77b627d6",
   "metadata": {},
   "outputs": [],
   "source": [
    "data_train_R2L_Normalized_KNN = data_train_R2L_Normalized[data_train_R2L_Normalized.columns[:-1]]\n",
    "Y_train_R2L_KNN = Y_train_R2L_dt\n",
    "data_test_R2L_Normalized_KNN = data_test_R2L_Normalized[data_test_R2L_Normalized.columns[:-1]]\n",
    "Y_test_R2L_KNN = Y_test_R2L_dt"
   ]
  },
  {
   "cell_type": "code",
   "execution_count": null,
   "id": "bd4ac1f6",
   "metadata": {},
   "outputs": [],
   "source": [
    "n_neighbors = list(range(12,21))\n",
    "p=[2] #p=2 euclidean_distance\n",
    "hyperparameters = dict(n_neighbors=n_neighbors, p=p)\n",
    "\n",
    "knn_2 = KNeighborsClassifier()\n",
    "\n",
    "clf = GridSearchCV(knn_2, hyperparameters, cv=5)\n",
    "\n",
    "best_model = clf.fit(data_train_R2L_Normalized_KNN, Y_train_R2L_KNN)\n",
    "\n",
    "print('Best n_neighbors_R2L:', best_model.best_estimator_.get_params()['n_neighbors'])"
   ]
  },
  {
   "cell_type": "code",
   "execution_count": null,
   "id": "41d4f252",
   "metadata": {},
   "outputs": [],
   "source": [
    "knn = KNeighborsClassifier(19,p=2)\n",
    "knn_model = knn.fit(data_train_R2L_Normalized_KNN, Y_train_R2L_dt)\n",
    "y_pred_R2L_knn = knn_model.predict(data_test_R2L_Normalized_KNN)"
   ]
  },
  {
   "cell_type": "code",
   "execution_count": null,
   "id": "d4175911",
   "metadata": {},
   "outputs": [],
   "source": [
    "class_report_R2L_KNN = classification_report(Y_test_R2L_KNN, y_pred_R2L_knn,output_dict=True)\n",
    "class_metrics_R2L = class_report_R2L_KNN['1']\n",
    "accuracy_R2L_KNN = class_report_R2L_KNN['accuracy']\n",
    "precision_R2L_KNN = class_metrics_R2L['precision']\n",
    "recall_R2L_KNN = class_metrics_R2L['recall']\n",
    "f1_score_R2L_KNN = class_metrics_R2L['f1-score']\n",
    "print(f\"Accuracy: {accuracy_R2L_KNN}\")\n",
    "print(f\"Precision: {precision_R2L_KNN}\")\n",
    "print(f\"Recall: {recall_R2L_KNN}\")\n",
    "print(f\"F1-score: {f1_score_R2L_KNN}\")"
   ]
  },
  {
   "cell_type": "markdown",
   "id": "a3406e84",
   "metadata": {},
   "source": [
    "# 4) Logistic Regression:"
   ]
  },
  {
   "cell_type": "code",
   "execution_count": null,
   "id": "7e0670e0",
   "metadata": {},
   "outputs": [],
   "source": [
    "from sklearn.linear_model import LogisticRegression"
   ]
  },
  {
   "cell_type": "markdown",
   "id": "dd8f5a05",
   "metadata": {},
   "source": [
    "<font color='green' ><h3> \n",
    "IV.4.1. normal</p><h3>"
   ]
  },
  {
   "cell_type": "code",
   "execution_count": null,
   "id": "f09e1028",
   "metadata": {},
   "outputs": [],
   "source": [
    "logreg = LogisticRegression(random_state=16)\n",
    "\n",
    "logreg.fit(data_train_normal, Y_train_normal_dt)\n",
    "\n",
    "y_pred_LGR = logreg.predict(data_test_normal)"
   ]
  },
  {
   "cell_type": "code",
   "execution_count": null,
   "id": "8aa62b30",
   "metadata": {},
   "outputs": [],
   "source": [
    "class_report_normal_LGR = classification_report(Y_test_normal_dt,y_pred_LGR,output_dict=True)\n",
    "class_metrics_normal = class_report_normal_LGR['1']\n",
    "\n",
    "accuracy_normal_LGR = class_report_normal_LGR['accuracy']\n",
    "precision_normal_LGR = class_metrics_normal['precision']\n",
    "recall_normal_LGR = class_metrics_normal['recall']\n",
    "f1_score_normal_LGR = class_metrics_normal['f1-score']\n",
    "\n",
    "print(f\"Accuracy: {accuracy_normal_LGR}\")\n",
    "print(f\"Precision: {precision_normal_LGR}\")\n",
    "print(f\"Recall: {recall_normal_LGR}\")\n",
    "print(f\"F1-score: {f1_score_normal_LGR}\")"
   ]
  },
  {
   "cell_type": "code",
   "execution_count": null,
   "id": "4d838cfa",
   "metadata": {},
   "outputs": [],
   "source": [
    "y_pred_proba = logreg.predict_proba(data_test_normal)[:, 1]\n",
    "fpr, tpr, _ = metrics.roc_curve(Y_test_normal_dt, y_pred_proba)\n",
    "auc = metrics.roc_auc_score(Y_test_normal_dt, y_pred_proba)\n",
    "plt.plot(fpr, tpr, label=\"data 1, auc=\" + str(auc))\n",
    "plt.legend(loc=4)\n",
    "plt.xlabel('False Positive Rate')\n",
    "plt.ylabel('True Positive Rate')\n",
    "plt.title('Receiver Operating Characteristic (ROC) Curve')\n",
    "plt.show()"
   ]
  },
  {
   "cell_type": "markdown",
   "id": "26b3d8df",
   "metadata": {},
   "source": [
    "<font color='green' ><h3> \n",
    "IV.4.2. DOS</p><h3>"
   ]
  },
  {
   "cell_type": "code",
   "execution_count": null,
   "id": "f0845f5c",
   "metadata": {},
   "outputs": [],
   "source": [
    "logreg = LogisticRegression(random_state=16)\n",
    "\n",
    "logreg.fit(data_train_Dos_dt, Y_train_Dos_dt)\n",
    "\n",
    "y_pred_LGR = logreg.predict(data_test_Dos_dt)"
   ]
  },
  {
   "cell_type": "code",
   "execution_count": null,
   "id": "175c85c5",
   "metadata": {},
   "outputs": [],
   "source": [
    "class_report_DoS_LGR = classification_report(Y_test_Dos_dt,y_pred_LGR,output_dict=True)\n",
    "class_metrics_DoS = class_report_DoS_LGR['1']\n",
    "\n",
    "accuracy_DoS_LGR = class_report_DoS_LGR['accuracy']\n",
    "precision_DoS_LGR = class_metrics_DoS['precision']\n",
    "recall_DoS_LGR = class_metrics_DoS['recall']\n",
    "f1_score_DoS_LGR = class_metrics_DoS['f1-score']\n",
    "\n",
    "print(f\"Accuracy: {accuracy_DoS_LGR}\")\n",
    "print(f\"Precision: {precision_DoS_LGR}\")\n",
    "print(f\"Recall: {recall_DoS_LGR}\")\n",
    "print(f\"F1-score: {f1_score_DoS_LGR}\")"
   ]
  },
  {
   "cell_type": "code",
   "execution_count": null,
   "id": "5dc01a5d",
   "metadata": {},
   "outputs": [],
   "source": [
    "y_pred_proba = logreg.predict_proba(data_test_Dos)[:, 1]\n",
    "fpr, tpr, _ = metrics.roc_curve(Y_test_Dos_dt, y_pred_proba)\n",
    "auc = metrics.roc_auc_score(Y_test_Dos_dt, y_pred_proba)\n",
    "plt.plot(fpr, tpr, label=\"data 1, auc=\" + str(auc))\n",
    "plt.legend(loc=4)\n",
    "plt.xlabel('False Positive Rate')\n",
    "plt.ylabel('True Positive Rate')\n",
    "plt.title('Receiver Operating Characteristic (ROC) Curve')\n",
    "plt.show()"
   ]
  },
  {
   "cell_type": "markdown",
   "id": "a1f187c1",
   "metadata": {},
   "source": [
    "<font color='green' ><h3> \n",
    "IV.3.3. Probe Attack</p><h3>"
   ]
  },
  {
   "cell_type": "code",
   "execution_count": null,
   "id": "dab7916d",
   "metadata": {},
   "outputs": [],
   "source": [
    "data_totrainlgr = data_train_ProbeAttack_Normalized.drop(columns=['Probe'],axis=1)"
   ]
  },
  {
   "cell_type": "code",
   "execution_count": null,
   "id": "bd8ebbf3",
   "metadata": {},
   "outputs": [],
   "source": [
    "logreg = LogisticRegression(random_state=16)\n",
    "\n",
    "logreg.fit(data_totrainlgr, Y_train_ProbeAttack_dt)\n",
    "\n",
    "y_pred_LGR = logreg.predict(data_test_ProbAttack_Normalized_KNN)"
   ]
  },
  {
   "cell_type": "code",
   "execution_count": null,
   "id": "05303155",
   "metadata": {},
   "outputs": [],
   "source": [
    "class_report_ProbeAttack_LGR = classification_report(Y_test_ProbAttack_KNN,y_pred_LGR,output_dict=True)\n",
    "class_metrics_ProbeAttack = class_report_ProbeAttack_LGR['1']\n",
    "\n",
    "accuracy_ProbeAttack_LGR = class_report_ProbeAttack_LGR['accuracy']\n",
    "precision_ProbeAttack_LGR = class_metrics_ProbeAttack['precision']\n",
    "recall_ProbeAttack_LGR = class_metrics_ProbeAttack['recall']\n",
    "f1_score_ProbeAttack_LGR = class_metrics_ProbeAttack['f1-score']\n",
    "\n",
    "print(f\"Accuracy: {accuracy_ProbeAttack_LGR}\")\n",
    "print(f\"Precision: {precision_ProbeAttack_LGR}\")\n",
    "print(f\"Recall: {recall_ProbeAttack_LGR}\")\n",
    "print(f\"F1-score: {f1_score_ProbeAttack_LGR}\")"
   ]
  },
  {
   "cell_type": "code",
   "execution_count": null,
   "id": "f7ee3d3a",
   "metadata": {},
   "outputs": [],
   "source": [
    "y_pred_proba = logreg.predict_proba(data_test_ProbeAttack)[:, 1]\n",
    "fpr, tpr, _ = metrics.roc_curve(Y_test_ProbAttack_KNN, y_pred_proba)\n",
    "auc = metrics.roc_auc_score(Y_test_ProbAttack_KNN, y_pred_proba)\n",
    "plt.plot(fpr, tpr, label=\"data 1, auc=\" + str(auc))\n",
    "plt.legend(loc=4)\n",
    "plt.xlabel('False Positive Rate')\n",
    "plt.ylabel('True Positive Rate')\n",
    "plt.title('Receiver Operating Characteristic (ROC) Curve')\n",
    "plt.show()"
   ]
  },
  {
   "cell_type": "markdown",
   "id": "c2217ead",
   "metadata": {},
   "source": [
    "<font color='green' ><h3> \n",
    "IV.4.4. U2R</p><h3>"
   ]
  },
  {
   "cell_type": "code",
   "execution_count": null,
   "id": "25219a02",
   "metadata": {},
   "outputs": [],
   "source": [
    "logreg = LogisticRegression(random_state=16)\n",
    "\n",
    "logreg.fit(data_train_U2R_dt, Y_train_U2R_dt)\n",
    "\n",
    "y_pred_LGR = logreg.predict(data_test_U2R_dt)"
   ]
  },
  {
   "cell_type": "code",
   "execution_count": null,
   "id": "c125bdf3",
   "metadata": {},
   "outputs": [],
   "source": [
    "class_report_U2R_LGR = classification_report(Y_test_U2R_KNN,y_pred_LGR,output_dict=True)\n",
    "class_metrics_U2R = class_report_U2R_LGR['1']\n",
    "\n",
    "accuracy_U2R_LGR = class_report_U2R_LGR['accuracy']\n",
    "precision_U2R_LGR = class_metrics_U2R['precision']\n",
    "recall_U2R_LGR = class_metrics_U2R['recall']\n",
    "f1_score_U2R_LGR = class_metrics_U2R['f1-score']\n",
    "\n",
    "print(f\"Accuracy: {accuracy_U2R_LGR}\")\n",
    "print(f\"Precision: {precision_U2R_LGR}\")\n",
    "print(f\"Recall: {recall_U2R_LGR}\")\n",
    "print(f\"F1-score: {f1_score_U2R_LGR}\")"
   ]
  },
  {
   "cell_type": "code",
   "execution_count": null,
   "id": "a36d4c69",
   "metadata": {},
   "outputs": [],
   "source": [
    "y_pred_proba = logreg.predict_proba(data_test_U2R_dt)[:, 1]\n",
    "fpr, tpr, _ = metrics.roc_curve(Y_test_U2R_KNN, y_pred_proba)\n",
    "auc = metrics.roc_auc_score(Y_test_U2R_KNN, y_pred_proba)\n",
    "plt.plot(fpr, tpr, label=\"data 1, auc=\" + str(auc))\n",
    "plt.legend(loc=4)\n",
    "plt.xlabel('False Positive Rate')\n",
    "plt.ylabel('True Positive Rate')\n",
    "plt.title('Receiver Operating Characteristic (ROC) Curve')\n",
    "plt.show()"
   ]
  },
  {
   "cell_type": "markdown",
   "id": "63553193",
   "metadata": {},
   "source": [
    "<font color='green' ><h3> \n",
    "IV.4.5. R2L</p><h3>"
   ]
  },
  {
   "cell_type": "code",
   "execution_count": null,
   "id": "6e997d4d",
   "metadata": {},
   "outputs": [],
   "source": [
    "logreg = LogisticRegression(random_state=16)\n",
    "\n",
    "logreg.fit(data_train_R2L_dt, Y_train_R2L_dt)\n",
    "\n",
    "y_pred_LGR = logreg.predict(data_test_R2L_dt)"
   ]
  },
  {
   "cell_type": "code",
   "execution_count": null,
   "id": "af84c37c",
   "metadata": {},
   "outputs": [],
   "source": [
    "class_report_R2L_LGR = classification_report(Y_test_R2L_KNN,y_pred_LGR,output_dict=True)\n",
    "class_metrics_R2L = class_report_R2L_LGR['1']\n",
    "\n",
    "accuracy_R2L_LGR = class_report_R2L_LGR['accuracy']\n",
    "precision_R2L_LGR = class_metrics_R2L['precision']\n",
    "recall_R2L_LGR = class_metrics_R2L['recall']\n",
    "f1_score_R2L_LGR = class_metrics_R2L['f1-score']\n",
    "\n",
    "print(f\"Accuracy: {accuracy_R2L_LGR}\")\n",
    "print(f\"Precision: {precision_R2L_LGR}\")\n",
    "print(f\"Recall: {recall_R2L_LGR}\")\n",
    "print(f\"F1-score: {f1_score_R2L_LGR}\")"
   ]
  },
  {
   "cell_type": "code",
   "execution_count": null,
   "id": "4744142a",
   "metadata": {},
   "outputs": [],
   "source": [
    "y_pred_proba = logreg.predict_proba(data_test_R2L_dt)[:, 1]\n",
    "fpr, tpr, _ = metrics.roc_curve(Y_test_R2L_KNN, y_pred_proba)\n",
    "auc = metrics.roc_auc_score(Y_test_R2L_KNN, y_pred_proba)\n",
    "plt.plot(fpr, tpr, label=\"data 1, auc=\" + str(auc))\n",
    "plt.legend(loc=4)\n",
    "plt.xlabel('False Positive Rate')\n",
    "plt.ylabel('True Positive Rate')\n",
    "plt.title('Receiver Operating Characteristic (ROC) Curve')\n",
    "plt.show()"
   ]
  },
  {
   "cell_type": "markdown",
   "id": "c37c5cb7",
   "metadata": {},
   "source": [
    "# 5) SVM:\n"
   ]
  },
  {
   "cell_type": "code",
   "execution_count": null,
   "id": "e1b627b1",
   "metadata": {},
   "outputs": [],
   "source": [
    "from sklearn.svm import SVC"
   ]
  },
  {
   "cell_type": "markdown",
   "id": "9f87c743",
   "metadata": {},
   "source": [
    "<font color='green' ><h3> \n",
    "IV.5.1. normal</p><h3>"
   ]
  },
  {
   "cell_type": "code",
   "execution_count": null,
   "id": "a7b57a56",
   "metadata": {},
   "outputs": [],
   "source": [
    "svc1 = SVC(kernel='linear', C=1.0, random_state=0)\n",
    "svc1.fit(data_train_normal_Normalized_KNN, Y_train_normal_dt)\n",
    "\n",
    "Y_pred_normal = svc1.predict(data_test_normal_Normalized_KNN)"
   ]
  },
  {
   "cell_type": "code",
   "execution_count": null,
   "id": "3fc27576",
   "metadata": {},
   "outputs": [],
   "source": [
    "class_report_normal_SVM = classification_report(Y_test_normal_dt,Y_pred_normal,output_dict=True)\n",
    "class_metrics_normal = class_report_normal_SVM['1']\n",
    "\n",
    "accuracy_normal_SVM = class_report_normal_SVM['accuracy']\n",
    "precision_normal_SVM = class_metrics_normal['precision']\n",
    "recall_normal_SVM = class_metrics_normal['recall']\n",
    "f1_score_normal_SVM = class_metrics_normal['f1-score']\n",
    "\n",
    "print(f\"Accuracy: {accuracy_normal_SVM}\")\n",
    "print(f\"Precision: {precision_normal_SVM}\")\n",
    "print(f\"Recall: {recall_normal_SVM}\")\n",
    "print(f\"F1-score: {f1_score_normal_SVM}\")"
   ]
  },
  {
   "cell_type": "markdown",
   "id": "4481dacc",
   "metadata": {},
   "source": [
    "<font color='green' ><h3> \n",
    "IV.5.2. DoS</p><h3>"
   ]
  },
  {
   "cell_type": "code",
   "execution_count": null,
   "id": "8cb22cfc",
   "metadata": {},
   "outputs": [],
   "source": [
    "svc2 = SVC(kernel='linear', C=1.0, random_state=0)\n",
    "svc2.fit(data_train_U2R_Normalized_KNN, Y_train_U2R_KNN)\n",
    "\n",
    "Y_pred_U2R = svc2.predict(data_test_U2R_Normalized_KNN)"
   ]
  },
  {
   "cell_type": "code",
   "execution_count": null,
   "id": "15c7d992",
   "metadata": {},
   "outputs": [],
   "source": [
    "class_report_U2R_SVM = classification_report(Y_test_U2R_KNN,Y_pred_U2R,output_dict=True)\n",
    "class_metrics_U2R = class_report_U2R_SVM['1']\n",
    "\n",
    "accuracy_U2R_SVM = class_report_U2R_SVM['accuracy']\n",
    "precision_U2R_SVM = class_metrics_U2R['precision']\n",
    "recall_U2R_SVM = class_metrics_U2R['recall']\n",
    "f1_score_U2R_SVM = class_metrics_U2R['f1-score']\n",
    "\n",
    "print(f\"Accuracy: {accuracy_U2R_SVM}\")\n",
    "print(f\"Precision: {precision_U2R_SVM}\")\n",
    "print(f\"Recall: {recall_U2R_SVM}\")\n",
    "print(f\"F1-score: {f1_score_U2R_SVM}\")"
   ]
  },
  {
   "cell_type": "markdown",
   "id": "1b4d84d8",
   "metadata": {},
   "source": [
    "<font color='green' ><h3> \n",
    "IV.5.3. Attack Probe</p><h3>"
   ]
  },
  {
   "cell_type": "code",
   "execution_count": null,
   "id": "1e76056a",
   "metadata": {},
   "outputs": [],
   "source": [
    "svc3 = SVC(kernel='linear', C=1.0, random_state=0)\n",
    "svc3.fit(data_train_ProbAttack_Normalized_KNN, Y_train_ProbAttack_KNN)\n",
    "\n",
    "Y_pred_ProbeAttack = svc3.predict(data_test_ProbAttack_Normalized_KNN)"
   ]
  },
  {
   "cell_type": "code",
   "execution_count": null,
   "id": "c4e2891a",
   "metadata": {},
   "outputs": [],
   "source": [
    "class_report_AttackProbe_SVM = classification_report(Y_test_ProbeAttack_dt,Y_pred_ProbeAttack,output_dict=True)\n",
    "class_metrics_AttackProbe = class_report_AttackProbe_SVM['1']\n",
    "\n",
    "accuracy_AttackProbe_SVM = class_report_AttackProbe_SVM['accuracy']\n",
    "precision_AttackProbe_SVM = class_metrics_AttackProbe['precision']\n",
    "recall_AttackProbe_SVM = class_metrics_AttackProbe['recall']\n",
    "f1_score_AttackProbe_SVM = class_metrics_AttackProbe['f1-score']\n",
    "\n",
    "print(f\"Accuracy: {accuracy_AttackProbe_SVM}\")\n",
    "print(f\"Precision: {precision_AttackProbe_SVM}\")\n",
    "print(f\"Recall: {recall_AttackProbe_SVM}\")\n",
    "print(f\"F1-score: {f1_score_AttackProbe_SVM}\")"
   ]
  },
  {
   "cell_type": "markdown",
   "id": "a369914d",
   "metadata": {},
   "source": [
    "<font color='green' ><h3> \n",
    "IV.5.4. U2R</p><h3>"
   ]
  },
  {
   "cell_type": "code",
   "execution_count": null,
   "id": "e8365ea3",
   "metadata": {},
   "outputs": [],
   "source": [
    "svc5 = SVC(kernel='linear', C=1.0, random_state=0)\n",
    "svc5.fit(data_train_U2R_Normalized_KNN, Y_train_U2R_KNN)\n",
    "\n",
    "Y_pred_U2R = svc5.predict(data_test_U2R_Normalized_KNN)"
   ]
  },
  {
   "cell_type": "code",
   "execution_count": null,
   "id": "22a40b78",
   "metadata": {},
   "outputs": [],
   "source": [
    "class_report_U2R_SVM = classification_report(Y_test_U2R_KNN,Y_pred_U2R,output_dict=True)\n",
    "class_metrics_U2R = class_report_U2R_SVM['1']\n",
    "\n",
    "accuracy_U2R_SVM = class_report_U2R_SVM['accuracy']\n",
    "precision_U2R_SVM = class_metrics_U2R['precision']\n",
    "recall_U2R_SVM = class_metrics_U2R['recall']\n",
    "f1_score_U2R_SVM = class_metrics_U2R['f1-score']\n",
    "\n",
    "print(f\"Accuracy: {accuracy_U2R_SVM}\")\n",
    "print(f\"Precision: {precision_U2R_SVM}\")\n",
    "print(f\"Recall: {recall_U2R_SVM}\")\n",
    "print(f\"F1-score: {f1_score_U2R_SVM}\")U2R"
   ]
  },
  {
   "cell_type": "markdown",
   "id": "84c91029",
   "metadata": {},
   "source": [
    "<font color='green' ><h3> \n",
    "IV.5.5. R2L</p><h3>"
   ]
  },
  {
   "cell_type": "code",
   "execution_count": null,
   "id": "85cadfa5",
   "metadata": {},
   "outputs": [],
   "source": [
    "svc4 = SVC(kernel='linear', C=1.0, random_state=0)\n",
    "svc4.fit(data_train_R2L_Normalized_KNN, Y_train_R2L_KNN)\n",
    "\n",
    "Y_pred_R2L = svc4.predict(data_test_R2L_Normalized_KNN)"
   ]
  },
  {
   "cell_type": "code",
   "execution_count": null,
   "id": "1f4bc488",
   "metadata": {},
   "outputs": [],
   "source": [
    "class_report_R2L_SVM = classification_report(Y_test_R2L_KNN,Y_pred_R2L,output_dict=True)\n",
    "class_metrics_R2L = class_report_R2L_SVM['1']\n",
    "\n",
    "accuracy_R2L_SVM = class_report_R2L_SVM['accuracy']\n",
    "precision_R2L_SVM = class_metrics_R2L['precision']\n",
    "recall_R2L_SVM = class_metrics_R2L['recall']\n",
    "f1_score_R2L_SVM = class_metrics_R2L['f1-score']\n",
    "\n",
    "print(f\"Accuracy: {accuracy_R2L_SVM}\")\n",
    "print(f\"Precision: {precision_R2L_SVM}\")\n",
    "print(f\"Recall: {recall_R2L_SVM}\")\n",
    "print(f\"F1-score: {f1_score_R2L_SVM}\")"
   ]
  },
  {
   "cell_type": "markdown",
   "id": "5b49c9b8-e834-4554-8eaf-f9d3425a11b1",
   "metadata": {},
   "source": [
    "# 6) Voting Classifier:\n"
   ]
  },
  {
   "cell_type": "markdown",
   "id": "f3d06a9b-47e7-4620-8b10-dfc2528e3188",
   "metadata": {},
   "source": [
    "### Models Included:\n",
    "\n",
    "1. **Decision Tree Classifier:**\n",
    "   - Decision trees are powerful non-linear models that partition the feature space to make predictions. They are known for capturing complex relationships within the data.\n",
    "\n",
    "2. **Logistic Regression:**\n",
    "   - Logistic Regression is a linear model commonly used for binary classification. Despite its simplicity, it can be effective in capturing linear relationships and is well-suited for certain types of datasets.\n",
    "\n",
    "3. **K-Nearest Neighbors (KNN):**\n",
    "   - KNN is a non-parametric and instance-based learning algorithm. It makes predictions based on the majority class of the k-nearest neighbors in the feature space. KNN is flexible and can adapt to different types of data distributions.\n",
    "\n",
    "### VotingClassifier Configuration:\n",
    "\n",
    "We combine these diverse models using the `VotingClassifier` from scikit-learn with a 'soft' voting strategy. In 'hard' voting, the predicted class label is the one that receives the majority of the votes from the individual classifiers.\n"
   ]
  },
  {
   "cell_type": "code",
   "execution_count": null,
   "id": "47b933f2-98a6-45ce-af56-00d01a33d102",
   "metadata": {},
   "outputs": [],
   "source": [
    "from sklearn.ensemble import VotingClassifier \n",
    "from sklearn.linear_model import LogisticRegression \n",
    "from sklearn.svm import SVC \n",
    "from sklearn.tree import DecisionTreeClassifier \n",
    "from sklearn.metrics import accuracy_score \n"
   ]
  },
  {
   "cell_type": "markdown",
   "id": "5b4c711c-b294-488c-be4d-3763fe5ea0b9",
   "metadata": {},
   "source": [
    "<font color='green' ><h3> \n",
    "IV.6.1. Normal</p><h3>"
   ]
  },
  {
   "cell_type": "code",
   "execution_count": null,
   "id": "ee8e5db7",
   "metadata": {},
   "outputs": [],
   "source": [
    "Y_test_normal_KNN = Y_test_normal_dt\n",
    "Y_train_normal_KNN = Y_train_normal_dt"
   ]
  },
  {
   "cell_type": "code",
   "execution_count": null,
   "id": "3982a6db-b172-450e-b18d-bc18946d8f09",
   "metadata": {},
   "outputs": [],
   "source": [
    "estimator_Normal = [] \n",
    "estimator_Normal.append(('SVM',  SVC(kernel='linear', C=1.0, random_state=0))) \n",
    "estimator_Normal.append(('KNN', KNeighborsClassifier(19,p=2))) \n",
    "estimator_Normal.append(('DTC', DecisionTreeClassifier(criterion='entropy',max_depth=13)))"
   ]
  },
  {
   "cell_type": "code",
   "execution_count": null,
   "id": "5bc04947-3d62-4f79-bcd7-4290f22326a1",
   "metadata": {},
   "outputs": [],
   "source": [
    "vot_hard_Normal = VotingClassifier(estimators = estimator_Normal, voting ='hard') \n",
    "\n",
    "vot_hard_Normal.fit(data_train_normal, Y_train_normal_dt) \n",
    "y_pred_Normal = vot_hard_Normal.predict(data_test_normal)"
   ]
  },
  {
   "cell_type": "code",
   "execution_count": null,
   "id": "d3dff632-4932-4e7b-a01e-6efd0c067f82",
   "metadata": {
    "scrolled": true
   },
   "outputs": [],
   "source": [
    "class_report_Normal = classification_report(Y_test_normal_KNN,y_pred_Normal,output_dict=True)\n",
    "class_metrics_Normal = class_report_Normal['1']\n",
    "\n",
    "accuracy_Normal_Voting = class_report_Normal['accuracy']\n",
    "precision_Normal_Voting = class_metrics_Normal['precision']\n",
    "recall_Normal_Voting = class_metrics_Normal['recall']\n",
    "f1_score_Normal_Voting = class_metrics_Normal['f1-score']\n",
    "\n",
    "print(f\"Accuracy: {accuracy_Normal_Voting}\")\n",
    "print(f\"Precision: {precision_Normal_Voting}\")\n",
    "print(f\"Recall: {recall_Normal_Voting}\")\n",
    "print(f\"F1-score: {f1_score_Normal_Voting}\")"
   ]
  },
  {
   "cell_type": "markdown",
   "id": "c9081acd-6eb7-4829-93e1-b0b6299a813f",
   "metadata": {},
   "source": [
    "<font color='green' ><h3> \n",
    "IV.6.2. DoS</p><h3>"
   ]
  },
  {
   "cell_type": "code",
   "execution_count": null,
   "id": "5344d791",
   "metadata": {},
   "outputs": [],
   "source": [
    "estimator_Dos = [] \n",
    "estimator_Dos.append(('LR', SVC(kernel='linear', C=1.0, random_state=0))) \n",
    "estimator_Dos.append(('KNN', KNeighborsClassifier(19,p=2))) \n",
    "estimator_Dos.append(('DTC', DecisionTreeClassifier(criterion='gini',max_depth=15))) "
   ]
  },
  {
   "cell_type": "code",
   "execution_count": null,
   "id": "90b0debc-040f-466c-8461-9081edcb1bc2",
   "metadata": {},
   "outputs": [],
   "source": [
    "vot_hard_Dos = VotingClassifier(estimators = estimator_Dos, voting ='hard') \n",
    "vot_hard_Dos.fit(data_train_Dos_Normalized_KNN, Y_train_Dos_dt) \n",
    "y_pred_Dos = vot_hard_Dos.predict(data_test_Dos_Normalized_KNN)"
   ]
  },
  {
   "cell_type": "code",
   "execution_count": null,
   "id": "ca045731-7356-460e-8dba-ec2f2ba6c857",
   "metadata": {
    "scrolled": true
   },
   "outputs": [],
   "source": [
    "class_report_DoS_Voting = classification_report(Y_test_Dos_dt,y_pred_Dos,output_dict=True)\n",
    "class_metrics_DoS = class_report_DoS_Voting['1']\n",
    "\n",
    "accuracy_DoS_Voting = class_report_DoS_Voting['accuracy']\n",
    "precision_DoS_Voting = class_metrics_DoS['precision']\n",
    "recall_DoS_Voting = class_metrics_DoS['recall']\n",
    "f1_score_DoS_Voting = class_metrics_DoS['f1-score']\n",
    "\n",
    "print(f\"Accuracy: {accuracy_DoS_Voting}\")\n",
    "print(f\"Precision: {precision_DoS_Voting}\")\n",
    "print(f\"Recall: {recall_DoS_Voting}\")\n",
    "print(f\"F1-score: {f1_score_DoS_Voting}\")"
   ]
  },
  {
   "cell_type": "markdown",
   "id": "31e082f3-e8f3-432c-9a1d-9935b310ba8f",
   "metadata": {},
   "source": [
    "<font color='green' ><h3> \n",
    "IV.6.3. Probe</p><h3>"
   ]
  },
  {
   "cell_type": "code",
   "execution_count": null,
   "id": "723561f3-9c0e-4f19-b5ba-f867bc7720b3",
   "metadata": {},
   "outputs": [],
   "source": [
    "estimator_Probe = [] \n",
    "estimator_Probe.append(('LR',LogisticRegression(random_state=16,max_iter=1000))) \n",
    "estimator_Probe.append(('SVM',SVC(kernel='linear', C=1.0, random_state=0))) \n",
    "estimator_Probe.append(('DTC', DecisionTreeClassifier(criterion='entropy',max_depth=14))) "
   ]
  },
  {
   "cell_type": "code",
   "execution_count": null,
   "id": "82e978bf-c60b-4046-8d8e-4dfdec6fc3bd",
   "metadata": {},
   "outputs": [],
   "source": [
    "vot_hard_Probe = VotingClassifier(estimators = estimator_Probe, voting ='hard') \n",
    "vot_hard_Probe.fit(data_train_ProbeAttack_dt, Y_train_ProbeAttack_dt) \n",
    "y_pred_Probe = vot_hard_Probe.predict(data_test_ProbeAttack_dt)\n"
   ]
  },
  {
   "cell_type": "code",
   "execution_count": null,
   "id": "9817a1b6-0d93-4980-a412-7405916e3767",
   "metadata": {
    "scrolled": true
   },
   "outputs": [],
   "source": [
    "class_report_Probe = classification_report(Y_test_ProbeAttack_dt,y_pred_Probe,output_dict=True)\n",
    "class_metrics_Probe = class_report_Probe['1']\n",
    "\n",
    "accuracy_Probe_Voting = class_report_Probe['accuracy']\n",
    "precision_Probe_Voting = class_metrics_Probe['precision']\n",
    "recall_Probe_Voting = class_metrics_Probe['recall']\n",
    "f1_score_Probe_Voting = class_metrics_Probe['f1-score']\n",
    "\n",
    "print(f\"Accuracy: {accuracy_Probe_Voting}\")\n",
    "print(f\"Precision: {precision_Probe_Voting}\")\n",
    "print(f\"Recall: {recall_Probe_Voting}\")\n",
    "print(f\"F1-score: {f1_score_Probe_Voting}\")"
   ]
  },
  {
   "cell_type": "markdown",
   "id": "4e4346a7-e856-4149-9346-789312e387a8",
   "metadata": {},
   "source": [
    "<font color='green' ><h3> \n",
    "IV.6.4. U2R</p><h3>"
   ]
  },
  {
   "cell_type": "code",
   "execution_count": null,
   "id": "d917a44c-6aa5-43ba-be49-3ed643f657da",
   "metadata": {},
   "outputs": [],
   "source": [
    "estimator_U2R = [] \n",
    "estimator_U2R.append(('LR', LogisticRegression(random_state=16,max_iter=1000))) \n",
    "estimator_U2R.append(('KNN', KNeighborsClassifier(19,p=2))) \n",
    "estimator_U2R.append(('DTC', DecisionTreeClassifier(criterion='entropy',max_depth=20))) \n",
    "\n",
    "\n",
    "vot_hard_U2R = VotingClassifier(estimators = estimator_U2R, voting ='soft') \n",
    "vot_hard_U2R.fit(data_train_U2R_dt, Y_train_U2R_dt) \n",
    "y_pred_U2R = vot_hard_U2R.predict(data_test_U2R_dt)"
   ]
  },
  {
   "cell_type": "code",
   "execution_count": null,
   "id": "730b7b35-b7d0-4f50-8ef6-f6eb7dba1a81",
   "metadata": {
    "scrolled": true
   },
   "outputs": [],
   "source": [
    "class_report_U2R = classification_report(Y_test_U2R_KNN,y_pred_U2R,output_dict=True)\n",
    "class_metrics_U2R = class_report_U2R['1']\n",
    "\n",
    "accuracy_U2R_Voting = class_report_U2R['accuracy']\n",
    "precision_U2R_Voting = class_metrics_U2R['precision']\n",
    "recall_U2R_Voting = class_metrics_U2R['recall']\n",
    "f1_score_U2R_Voting = class_metrics_U2R['f1-score']\n",
    "\n",
    "print(f\"Accuracy: {accuracy_U2R_Voting}\")\n",
    "print(f\"Precision: {precision_U2R_Voting}\")\n",
    "print(f\"Recall: {recall_U2R_Voting}\")\n",
    "print(f\"F1-score: {f1_score_U2R_Voting}\")"
   ]
  },
  {
   "cell_type": "markdown",
   "id": "5d9da731-e3b6-42f7-b4c7-0c85a215072a",
   "metadata": {},
   "source": [
    "<font color='green' ><h3> \n",
    "IV.6.5. R2L</p><h3>"
   ]
  },
  {
   "cell_type": "code",
   "execution_count": null,
   "id": "925d1ee8-81bb-4994-ac36-ccb85c93b9de",
   "metadata": {},
   "outputs": [],
   "source": [
    "estimator_R2L = [] \n",
    "estimator_R2L.append(('LR', LogisticRegression(random_state=16,max_iter=1000))) \n",
    "estimator_R2L.append(('KNN', KNeighborsClassifier(19,p=2))) \n",
    "estimator_R2L.append(('DTC', SVC(kernel='linear', C=1.0, random_state=0))) \n",
    "\n",
    "vot_hard_R2L= VotingClassifier(estimators = estimator_R2L, voting ='hard') \n",
    "\n",
    "vot_hard_R2L.fit(data_train_R2L_dt, Y_train_R2L_dt) \n",
    "y_pred_R2L = vot_hard_R2L.predict(data_test_R2L_dt)"
   ]
  },
  {
   "cell_type": "code",
   "execution_count": null,
   "id": "d0cf3c75-c530-44ec-9ed1-581e39264706",
   "metadata": {},
   "outputs": [],
   "source": [
    "class_report_R2L = classification_report(Y_test_U2R_KNN,y_pred_U2R,output_dict=True)\n",
    "class_metrics_R2L = class_report_R2L['1']\n",
    "\n",
    "accuracy_R2L_Voting = class_report_R2L['accuracy']\n",
    "precision_R2L_Voting = class_metrics_R2L['precision']\n",
    "recall_R2L_Voting = class_metrics_R2L['recall']\n",
    "f1_score_R2L_Voting = class_metrics_R2L['f1-score']\n",
    "\n",
    "print(f\"Accuracy: {accuracy_R2L_Voting}\")\n",
    "print(f\"Precision: {precision_R2L_Voting}\")\n",
    "print(f\"Recall: {recall_R2L_Voting}\")\n",
    "print(f\"F1-score: {f1_score_R2L_Voting}\")"
   ]
  },
  {
   "cell_type": "markdown",
   "id": "b7f3bb2a",
   "metadata": {},
   "source": [
    "<p style=\"font-family: Arial; font-size:1.75em;color:red; font-style:bold\"><br>\n",
    "V. EVALUATION :</p><br> "
   ]
  },
  {
   "cell_type": "markdown",
   "id": "26d9e376",
   "metadata": {},
   "source": [
    "## Decision Tree Vs KNN Vs SVM Vs LGR"
   ]
  },
  {
   "cell_type": "code",
   "execution_count": null,
   "id": "56b4e7dd",
   "metadata": {},
   "outputs": [],
   "source": [
    "KNN_VS_DT = [\n",
    "    [\"Decision Tree\", \"normal\", accuracy_normal_dt, precision_normal_dt, recall_normal_dt, f1Score_normal_dt],\n",
    "    [\"Decision Tree\", \"DoS\", accuracy_dos_dt, precision_dos_dt, recall_dos_dt, f1Score_dos_dt],\n",
    "    [\"Decision Tree\", \"U2R\", accuracy_U2R_dt, precision_U2R_dt, recall_U2R_dt, f1Score_U2R_dt],\n",
    "    [\"Decision Tree\", \"R2L\", accuracy_R2L_dt, precision_R2L_dt, recall_R2L_dt, f1Score_R2L_dt],\n",
    "    [\"Decision Tree\", \"Probe\", accuracy_ProbeAttack_dt, precision_ProbeAttack_dt, recall_ProbeAttack_dt, f1Score_ProbeAttack_dt],\n",
    "    [\"KNN\", \"normal\", accuracy_normal_KNN, precision_normal_KNN, recall_normal_KNN, f1_score_normal_KNN],\n",
    "    [\"KNN\", \"DoS\", accuracy_Dos_KNN, precision_Dos_KNN, recall_Dos_KNN, f1_score_Dos_KNN],\n",
    "    [\"KNN\", \"U2R\", accuracy_U2R_KNN, precision_U2R_KNN, recall_U2R_KNN, f1_score_U2R_KNN],\n",
    "    [\"KNN\", \"R2L\", accuracy_R2L_KNN, precision_R2L_KNN, recall_R2L_KNN, f1_score_R2L_KNN],\n",
    "    [\"KNN\", \"Probe\", accuracy_ProbAttack_KNN, precision_ProbAttack_KNN, recall_ProbAttack_KNN, f1_score_ProbAttack_KNN],\n",
    "    [\"SVM\", \"normal\", accuracy_normal_SVM, precision_normal_SVM, recall_normal_SVM, f1_score_normal_SVM],\n",
    "    [\"SVM\", \"DoS\", accuracy_DoS_SVM, precision_DoS_SVM, recall_DoS_SVM, f1_score_DoS_SVM],\n",
    "    [\"SVM\", \"U2R\", accuracy_U2R_SVM, precision_U2R_SVM, recall_U2R_SVM, f1_score_U2R_SVM],\n",
    "    [\"SVM\", \"R2L\", accuracy_R2L_SVM, precision_R2L_SVM, recall_R2L_SVM, f1_score_R2L_SVM],\n",
    "    [\"SVM\", \"Probe\", accuracy_rf_ProbeAttack, precision_rf_ProbeAttack, recall_rf_ProbeAttack, f1_score_rf_ProbeAttack],\n",
    "    [\"LGR\", \"normal\", accuracy_normal_LGR, precision_normal_LGR, recall_normal_LGR, f1_score_normal_LGR],\n",
    "    [\"LGR\", \"DoS\", accuracy_DoS_LGR, precision_DoS_LGR, recall_DoS_LGR, f1_score_DoS_LGR],\n",
    "    [\"LGR\", \"U2R\", accuracy_U2R_LGR, precision_U2R_LGR, recall_U2R_LGR, f1_score_U2R_LGR],\n",
    "    [\"LGR\", \"R2L\", accuracy_R2L_LGR, precision_R2L_LGR, recall_R2L_LGR, f1_score_R2L_LGR],\n",
    "    [\"LGR\", \"Probe\", accuracy_rf_ProbeAttack, precision_rf_ProbeAttack, recall_rf_ProbeAttack, f1_score_rf_ProbeAttack]\n",
    "    \n",
    "]\n",
    "headers = [\"Classifier\", \"Class\", \"Accuracy\", \"Precision\", \"Recall\", \"F-score\"]\n",
    "Table3 = pd.DataFrame(KNN_VS_DT, columns=headers)\n",
    "\n",
    "Table3\n"
   ]
  },
  {
   "cell_type": "code",
   "execution_count": null,
   "id": "0abb0769",
   "metadata": {},
   "outputs": [],
   "source": [
    "df_performance = pd.DataFrame(Table3, columns=['Classifier', 'Class', 'Accuracy', 'Precision', 'Recall', 'F-score'])\n",
    "\n",
    "df_avg = df_performance.groupby('Classifier').mean().reset_index()\n",
    "\n",
    "df_avg_melted = pd.melt(df_avg, id_vars='Classifier', var_name='Metric', value_name='Average Value')\n",
    "\n",
    "plt.figure(figsize=(10, 6))\n",
    "sns.barplot(x='Metric', y='Average Value', hue='Classifier', data=df_avg_melted, palette='viridis')\n",
    "plt.title('Comparison of Average Metrics: Decision Tree vs. KNN')\n",
    "plt.xlabel('Metric')\n",
    "plt.ylabel('Average Score')\n",
    "plt.show()"
   ]
  },
  {
   "cell_type": "code",
   "execution_count": null,
   "id": "4bd7abfa",
   "metadata": {},
   "outputs": [],
   "source": [
    "headers = [\"Classifier\", \"Class\", \"Accuracy\", \"Precision\", \"Recall\", \"F-score\"]\n",
    "Table3 = pd.DataFrame(KNN_VS_DT, columns=headers)\n",
    "\n",
    "# Get unique types of attacks and classifiers\n",
    "attack_types = Table3['Class'].unique()\n",
    "classifiers = Table3['Classifier'].unique()\n",
    "\n",
    "# Create subplots for each type of attack\n",
    "fig, axes = plt.subplots(nrows=len(attack_types), ncols=1, figsize=(7, 3 * len(attack_types)))\n",
    "\n",
    "for i, attack_type in enumerate(attack_types):\n",
    "    subset = Table3[Table3['Class'] == attack_type]\n",
    "    \n",
    "    # Melt the DataFrame\n",
    "    melted_df = subset.melt(id_vars=['Classifier', 'Class'], var_name='Metric', value_name='Value')\n",
    "    \n",
    "    # Plotting\n",
    "    sns.barplot(x='Classifier', y='Value', hue='Metric', data=melted_df, ax=axes[i], palette='viridis', dodge=True)\n",
    "    \n",
    "    # Customize the plot\n",
    "    axes[i].set_title(f'Metrics for {attack_type} attack')\n",
    "    axes[i].set_xlabel('Classifier')\n",
    "    axes[i].set_ylabel('Metric Value')\n",
    "    axes[i].legend(title='Metric')\n",
    "\n",
    "plt.tight_layout()\n",
    "plt.show()"
   ]
  },
  {
   "cell_type": "markdown",
   "id": "9c064dfc",
   "metadata": {},
   "source": [
    "## Random Forest Vs Voting Classifier"
   ]
  },
  {
   "cell_type": "code",
   "execution_count": null,
   "id": "b1b0ee3c",
   "metadata": {},
   "outputs": [],
   "source": [
    "RFVSVOT = [\n",
    "    [\"Random Forest\", \"normal\", accuracy_rf_normal, precision_rf_normal, recall_rf_normal, f1_score_rf_normal],\n",
    "    [\"Random Forest\", \"DoS\", accuracy_rf_dos, precision_rf_dos, recall_rf_dos, f1_score_rf_dos],\n",
    "    [\"Random Forest\", \"U2R\", accuracy_rf_U2R, precision_rf_U2R, recall_rf_U2R, f1_score_rf_U2R],\n",
    "    [\"Random Forest\", \"R2L\", accuracy_rf_R2L, precision_rf_R2L, recall_rf_R2L, f1_score_rf_R2L],\n",
    "    [\"Random Forest\", \"Probe\", accuracy_rf_ProbeAttack, precision_rf_ProbeAttack, recall_rf_ProbeAttack, f1_score_rf_ProbeAttack],\n",
    "    [\"Voting\", \"normal\", accuracy_Normal_Voting, precision_Normal_Voting, recall_Normal_Voting, f1_score_Normal_Voting],\n",
    "    [\"Voting\", \"DoS\", accuracy_DoS_Voting, precision_DoS_Voting, recall_DoS_Voting, f1_score_DoS_Voting],\n",
    "    [\"Voting\", \"U2R\", accuracy_U2R_Voting, precision_U2R_Voting, recall_U2R_Voting, f1_score_U2R_Voting],\n",
    "    [\"Voting\", \"R2L\", accuracy_R2L_Voting, precision_R2L_Voting, recall_R2L_Voting, f1_score_R2L_Voting],\n",
    "    [\"Voting\", \"Probe\", accuracy_Probe_Voting, precision_Probe_Voting, recall_Probe_Voting, f1_score_Probe_Voting],\n",
    "    \n",
    "]\n",
    "headers = [\"Classifier\", \"Class\", \"Accuracy\", \"Precision\", \"Recall\", \"F-score\"]\n",
    "Table4 = pd.DataFrame(RFVSVOT, columns=headers)\n",
    "\n",
    "Table4\n"
   ]
  },
  {
   "cell_type": "code",
   "execution_count": null,
   "id": "0acc1a99",
   "metadata": {},
   "outputs": [],
   "source": [
    "tableau3_performance = pd.DataFrame(Table4, columns=['Classifier', 'Class', 'Accuracy', 'Precision', 'Recall', 'F-score'])\n",
    "tableau3_avg = tableau3_performance.groupby('Classifier').mean().reset_index()\n",
    "tableau3_avg_melted = pd.melt(df_avg, id_vars='Classifier', var_name='Metric', value_name='Average Value')\n",
    "plt.figure(figsize=(10, 6))\n",
    "sns.barplot(x='Metric', y='Average Value', hue='Classifier', data=tableau3_avg_melted, palette='viridis')\n",
    "plt.title('Comparison of Average Metrics: Decision Tree vs. KNN')\n",
    "plt.xlabel('Metric')\n",
    "plt.ylabel('Average Score')\n",
    "plt.show()"
   ]
  },
  {
   "cell_type": "code",
   "execution_count": null,
   "id": "91319a79",
   "metadata": {},
   "outputs": [],
   "source": [
    "attack_types_table4 = Table4['Class'].unique()\n",
    "classifiers_table4 = Table4['Classifier'].unique()\n",
    "fig, axes = plt.subplots(nrows=len(attack_types_table4), ncols=1, figsize=(7, 3 * len(attack_types_table4)))\n",
    "\n",
    "for i, attack_type_table4 in enumerate(attack_types_table4):\n",
    "    subset_table4 = Table4[Table4['Class'] == attack_type_table4]\n",
    "    melted_table4 = subset_table4.melt(id_vars=['Classifier', 'Class'], value_name='Value', var_name='Metric')\n",
    "    sns.barplot(x='Classifier', y='Value', hue='Metric', data=melted_table4, ax=axes[i], palette='viridis', dodge=True)\n",
    "    axes[i].set_title(f'Metrics for {attack_type_table4} attack')\n",
    "    axes[i].set_xlabel('Classifier')\n",
    "    axes[i].set_ylabel('Metric Value')\n",
    "    axes[i].legend(title='Metric')\n",
    "\n",
    "plt.tight_layout()\n",
    "plt.show()"
   ]
  },
  {
   "cell_type": "markdown",
   "id": "80ef8345",
   "metadata": {},
   "source": [
    "# Conclusion"
   ]
  },
  {
   "cell_type": "markdown",
   "id": "a0b38e3a",
   "metadata": {},
   "source": [
    "<p style=\"color: green; font-size: 13px;\">\n",
    "  We will choose <strong>Voting Classifier For : normal , DoS , probeAttack , U2R , R2L</strong> because it's giving the best results compared to Random Forest. </p>\n",
    "<p style=\"color: green; font-size: 13px;\">    \n",
    "And for <strong>U2R we will use Random Forest</strong> because it s giving a better result compared to Voting Classifier</p>\n",
    "\n",
    "<center><strong>All values are concluded via the plots .</strong></center>"
   ]
  },
  {
   "cell_type": "markdown",
   "id": "8db10eaa",
   "metadata": {},
   "source": [
    "# Exporting the best Models"
   ]
  },
  {
   "cell_type": "code",
   "execution_count": null,
   "id": "3ec729eb",
   "metadata": {},
   "outputs": [],
   "source": [
    "import joblib"
   ]
  },
  {
   "cell_type": "code",
   "execution_count": null,
   "id": "411b30be",
   "metadata": {},
   "outputs": [],
   "source": [
    "joblib.dump(vot_hard_Normal,'vot_hard_Normal.sav')\n",
    "joblib.dump(vot_hard_Dos,'vot_hard_Dos.sav')\n",
    "joblib.dump(vot_hard_Probe,'vot_hard_Probe.sav')\n",
    "joblib.dump(clf_R2L,'vot_hard_R2L.sav')\n",
    "joblib.dump(vot_hard_U2R,'vot_hard_U2R.sav')"
   ]
  }
 ],
 "metadata": {
  "kernelspec": {
   "display_name": "Python 3 (ipykernel)",
   "language": "python",
   "name": "python3"
  },
  "language_info": {
   "codemirror_mode": {
    "name": "ipython",
    "version": 3
   },
   "file_extension": ".py",
   "mimetype": "text/x-python",
   "name": "python",
   "nbconvert_exporter": "python",
   "pygments_lexer": "ipython3",
   "version": "3.9.13"
  }
 },
 "nbformat": 4,
 "nbformat_minor": 5
}
